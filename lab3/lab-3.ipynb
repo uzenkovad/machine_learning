{
 "cells": [
  {
   "cell_type": "markdown",
   "id": "be427ce4d10d2c2d",
   "metadata": {},
   "source": [
    "# Lab work # 3: Lazy learner k-Nearest Neighbour\n",
    "\n",
    "> Student name    - Daria\n",
    "\n",
    "> Student surname - Uzenkova\n",
    "\n",
    "> Group           - CS-31"
   ]
  },
  {
   "cell_type": "markdown",
   "id": "2bbc70b167f3aeaf",
   "metadata": {},
   "source": [
    "# Description of the work\n",
    "\n",
    "## Theory\n",
    "* [Lazy Learning Wiki](https://en.wikipedia.org/wiki/Lazy_learning)\n",
    "* [k-Nearest Neighbour Wiki](https://en.wikipedia.org/wiki/K-nearest_neighbors_algorithm)\n",
    "\n",
    "### k-NN metrics:\n",
    "* `n_neighbours` -- number neighbours to vote\n",
    "* `p` -- the distance metric (Euclid Distance, Mahalanobis Distance, Manhattan Distance (L1), L2, cosine, and [other available metric could be found here](https://docs.scipy.org/doc/scipy/reference/spatial.distance.html))\n",
    "\n",
    "## Dataset\n",
    "\n",
    "3. [Fitness Classification Dataset](https://www.kaggle.com/datasets/muhammedderric/fitness-classification-dataset-synthetic)\n",
    "\n",
    "\n",
    "## Task description\n",
    "\n",
    "1. Build lazy learner as was shown in the experiment part.\n",
    "2. Do experiments with various metrics (not only included in the list)\n",
    "3. Do experiments with various data separations.\n",
    "4. WARNING: for testing while doing experiments on non-toy data do train-val-test data split. It'll show more realistic performance of your model.\n",
    "5. WARNING: for unbalanced data prefer using other metrics (not \"accuracy\", but \"f1-macro\" / \"precision\" / \"recall\"), be inventive in this question.\n"
   ]
  },
  {
   "cell_type": "markdown",
   "id": "89deeb3f738b324",
   "metadata": {},
   "source": [
    "# Import dependencies"
   ]
  },
  {
   "cell_type": "code",
   "execution_count": 1,
   "id": "58e6a489cbbb6366",
   "metadata": {
    "ExecuteTime": {
     "end_time": "2025-10-24T06:44:26.954997Z",
     "start_time": "2025-10-24T06:44:26.949749Z"
    }
   },
   "outputs": [],
   "source": [
    "import numpy as np\n",
    "import pandas as pd\n",
    "\n",
    "from sklearn.neighbors import KNeighborsClassifier\n",
    "\n",
    "from sklearn.model_selection import train_test_split\n",
    "from sklearn.preprocessing import LabelEncoder\n",
    "from sklearn.preprocessing import StandardScaler\n",
    "\n",
    "from sklearn.metrics import classification_report\n",
    "from sklearn.metrics import ConfusionMatrixDisplay\n",
    "from sklearn.metrics import f1_score\n",
    "\n",
    "import seaborn as sns\n",
    "import matplotlib.pyplot as plt\n",
    "import plotly.express as px\n",
    "\n",
    "from tqdm import tqdm\n",
    "import warnings  \n"
   ]
  },
  {
   "cell_type": "markdown",
   "id": "90f514825b3f39d7",
   "metadata": {},
   "source": [
    "# Some useful code"
   ]
  },
  {
   "cell_type": "code",
   "execution_count": 2,
   "id": "b1c70da888aa00d8",
   "metadata": {
    "ExecuteTime": {
     "end_time": "2025-10-17T06:10:30.429449Z",
     "start_time": "2025-10-17T06:10:30.419903Z"
    }
   },
   "outputs": [],
   "source": [
    "def plot_classifier_boundary(X, y, model=None, title=None, resolution=200):\n",
    "    \"\"\"\n",
    "    Visualizes classifier decision boundaries using a high-resolution, evenly-spaced grid.\n",
    "\n",
    "    If a model is provided, it plots the decision regions.\n",
    "    If model is None, it only plots the data points.\n",
    "\n",
    "    :param X: The feature matrix, shape (n_samples, 2).\n",
    "    :param y: The true label vector, shape (n_samples,).\n",
    "    :param model: A trained scikit-learn classifier object. Optional.\n",
    "    :param title: The title for the plot. A default is used if None.\n",
    "    :param resolution: The number of points to use per axis for the background grid.\n",
    "    \"\"\"\n",
    "    plt.style.use('seaborn-v0_8-pastel')\n",
    "    fig, ax = plt.subplots(figsize=(8, 8))\n",
    "\n",
    "    # Plot the background decision regions only if a model is provided\n",
    "    if model is not None:\n",
    "        # 1. Define the plot boundaries with a 10% padding\n",
    "        x1_min, x1_max = X[:, 0].min(), X[:, 0].max()\n",
    "        x2_min, x2_max = X[:, 1].min(), X[:, 1].max()\n",
    "        x1_pad = (x1_max - x1_min) * 0.2\n",
    "        x2_pad = (x2_max - x2_min) * 0.2\n",
    "        plot_x1_min, plot_x1_max = x1_min - x1_pad, x1_max + x1_pad\n",
    "        plot_x2_min, plot_x2_max = x2_min - x2_pad, x2_max + x2_pad\n",
    "\n",
    "        # 2. Create a high-resolution, evenly-spaced grid of points\n",
    "        xx1, xx2 = np.meshgrid(\n",
    "            np.linspace(plot_x1_min, plot_x1_max, resolution),\n",
    "            np.linspace(plot_x2_min, plot_x2_max, resolution)\n",
    "        )\n",
    "        \n",
    "        # 3. Get the model's prediction for every point on the grid\n",
    "        # We flatten the grid to pass it to the model, then reshape the predictions back\n",
    "        grid_points = np.c_[xx1.ravel(), xx2.ravel()]\n",
    "        Z = model.predict(grid_points)\n",
    "        Z = Z.reshape(xx1.shape)\n",
    "        \n",
    "        # 4. Plot the regions using filled contours\n",
    "        ax.contourf(xx1, xx2, Z, cmap=plt.cm.coolwarm, alpha=0.6)\n",
    "\n",
    "    # 5. Plot the original data points on top\n",
    "    scatter = ax.scatter(X[:, 0], X[:, 1], c=y, cmap=plt.cm.coolwarm, edgecolors='k', alpha=1.0, zorder=2)\n",
    "\n",
    "    # Set a dynamic title if none is provided\n",
    "    if title is None:\n",
    "        title = \"Classifier Decision Boundary\" if model is not None else \"Data Scatter Plot\"\n",
    "    \n",
    "    ax.set_xlabel(\"Feature 1\", fontsize=12)\n",
    "    ax.set_ylabel(\"Feature 2\", fontsize=12)\n",
    "    ax.set_title(title, fontsize=14, weight='bold')\n",
    "\n",
    "    # --- Legend Creation ---\n",
    "    handles, _ = scatter.legend_elements()\n",
    "    num_classes = len(np.unique(y))\n",
    "    class_labels = [f'Class {i}' for i in range(num_classes)]\n",
    "    ax.legend(handles=handles, labels=class_labels, loc='upper right', fontsize=11)\n",
    "    \n",
    "    if model is not None:\n",
    "        ax.set_xlim(plot_x1_min, plot_x1_max)\n",
    "        ax.set_ylim(plot_x2_min, plot_x2_max)\n",
    "    \n",
    "    plt.show()"
   ]
  },
  {
   "cell_type": "markdown",
   "id": "d19ad8b0c2131a0b",
   "metadata": {},
   "source": [
    "## 2. Real data example"
   ]
  },
  {
   "cell_type": "markdown",
   "id": "e7cdbdda3abd6680",
   "metadata": {},
   "source": [
    "## 2.1. Load & prepare data"
   ]
  },
  {
   "cell_type": "code",
   "execution_count": 3,
   "id": "ad81849cfb86e7d1",
   "metadata": {
    "ExecuteTime": {
     "end_time": "2025-10-24T05:52:02.011092Z",
     "start_time": "2025-10-24T05:52:01.994636Z"
    }
   },
   "outputs": [
    {
     "name": "stdout",
     "output_type": "stream",
     "text": [
      "Завантаження та аналіз даних\n",
      "Початковий розмір даних: (2000, 11)\n",
      "\n",
      "Інформація про дані (до очищення):\n",
      "<class 'pandas.core.frame.DataFrame'>\n",
      "RangeIndex: 2000 entries, 0 to 1999\n",
      "Data columns (total 11 columns):\n",
      " #   Column             Non-Null Count  Dtype  \n",
      "---  ------             --------------  -----  \n",
      " 0   age                2000 non-null   int64  \n",
      " 1   height_cm          2000 non-null   int64  \n",
      " 2   weight_kg          2000 non-null   int64  \n",
      " 3   heart_rate         2000 non-null   float64\n",
      " 4   blood_pressure     2000 non-null   float64\n",
      " 5   sleep_hours        1840 non-null   float64\n",
      " 6   nutrition_quality  2000 non-null   float64\n",
      " 7   activity_index     2000 non-null   float64\n",
      " 8   smokes             2000 non-null   object \n",
      " 9   gender             2000 non-null   object \n",
      " 10  is_fit             2000 non-null   int64  \n",
      "dtypes: float64(5), int64(4), object(2)\n",
      "memory usage: 172.0+ KB\n"
     ]
    }
   ],
   "source": [
    "# Завантаження та аналіз даних\n",
    "\n",
    "# 1. Завантаження\n",
    "print(\"Завантаження та аналіз даних\")\n",
    "try:\n",
    "    df = pd.read_csv(\"./fitness_dataset.csv\") \n",
    "except FileNotFoundError:\n",
    "    print(\"Помилка: Файл 'fitness_dataset.csv' не знайдено.\")\n",
    "    df = pd.DataFrame() # Створюємо порожній DataFrame, щоб код не впав\n",
    "\n",
    "if not df.empty:\n",
    "    print(f\"Початковий розмір даних: {df.shape}\")\n",
    "    print(\"\\nІнформація про дані (до очищення):\")\n",
    "    df.info()\n",
    "else:\n",
    "    print(\"DataFrame порожній. Подальше виконання зупинено.\")"
   ]
  },
  {
   "cell_type": "code",
   "execution_count": 4,
   "id": "0301efd0",
   "metadata": {},
   "outputs": [
    {
     "data": {
      "text/html": [
       "<div>\n",
       "<style scoped>\n",
       "    .dataframe tbody tr th:only-of-type {\n",
       "        vertical-align: middle;\n",
       "    }\n",
       "\n",
       "    .dataframe tbody tr th {\n",
       "        vertical-align: top;\n",
       "    }\n",
       "\n",
       "    .dataframe thead th {\n",
       "        text-align: right;\n",
       "    }\n",
       "</style>\n",
       "<table border=\"1\" class=\"dataframe\">\n",
       "  <thead>\n",
       "    <tr style=\"text-align: right;\">\n",
       "      <th></th>\n",
       "      <th>age</th>\n",
       "      <th>height_cm</th>\n",
       "      <th>weight_kg</th>\n",
       "      <th>heart_rate</th>\n",
       "      <th>blood_pressure</th>\n",
       "      <th>sleep_hours</th>\n",
       "      <th>nutrition_quality</th>\n",
       "      <th>activity_index</th>\n",
       "      <th>smokes</th>\n",
       "      <th>gender</th>\n",
       "      <th>is_fit</th>\n",
       "    </tr>\n",
       "  </thead>\n",
       "  <tbody>\n",
       "    <tr>\n",
       "      <th>0</th>\n",
       "      <td>56</td>\n",
       "      <td>152</td>\n",
       "      <td>65</td>\n",
       "      <td>69.6</td>\n",
       "      <td>117.0</td>\n",
       "      <td>NaN</td>\n",
       "      <td>2.37</td>\n",
       "      <td>3.97</td>\n",
       "      <td>no</td>\n",
       "      <td>F</td>\n",
       "      <td>1</td>\n",
       "    </tr>\n",
       "    <tr>\n",
       "      <th>1</th>\n",
       "      <td>69</td>\n",
       "      <td>186</td>\n",
       "      <td>95</td>\n",
       "      <td>60.8</td>\n",
       "      <td>114.8</td>\n",
       "      <td>7.5</td>\n",
       "      <td>8.77</td>\n",
       "      <td>3.19</td>\n",
       "      <td>0</td>\n",
       "      <td>F</td>\n",
       "      <td>1</td>\n",
       "    </tr>\n",
       "    <tr>\n",
       "      <th>2</th>\n",
       "      <td>46</td>\n",
       "      <td>192</td>\n",
       "      <td>103</td>\n",
       "      <td>61.4</td>\n",
       "      <td>116.4</td>\n",
       "      <td>NaN</td>\n",
       "      <td>8.20</td>\n",
       "      <td>2.03</td>\n",
       "      <td>0</td>\n",
       "      <td>F</td>\n",
       "      <td>0</td>\n",
       "    </tr>\n",
       "    <tr>\n",
       "      <th>3</th>\n",
       "      <td>32</td>\n",
       "      <td>189</td>\n",
       "      <td>83</td>\n",
       "      <td>60.2</td>\n",
       "      <td>130.1</td>\n",
       "      <td>7.0</td>\n",
       "      <td>6.18</td>\n",
       "      <td>3.68</td>\n",
       "      <td>0</td>\n",
       "      <td>M</td>\n",
       "      <td>1</td>\n",
       "    </tr>\n",
       "    <tr>\n",
       "      <th>4</th>\n",
       "      <td>60</td>\n",
       "      <td>175</td>\n",
       "      <td>99</td>\n",
       "      <td>58.1</td>\n",
       "      <td>115.8</td>\n",
       "      <td>8.0</td>\n",
       "      <td>9.95</td>\n",
       "      <td>4.83</td>\n",
       "      <td>yes</td>\n",
       "      <td>F</td>\n",
       "      <td>1</td>\n",
       "    </tr>\n",
       "  </tbody>\n",
       "</table>\n",
       "</div>"
      ],
      "text/plain": [
       "   age  height_cm  weight_kg  heart_rate  blood_pressure  sleep_hours  \\\n",
       "0   56        152         65        69.6           117.0          NaN   \n",
       "1   69        186         95        60.8           114.8          7.5   \n",
       "2   46        192        103        61.4           116.4          NaN   \n",
       "3   32        189         83        60.2           130.1          7.0   \n",
       "4   60        175         99        58.1           115.8          8.0   \n",
       "\n",
       "   nutrition_quality  activity_index smokes gender  is_fit  \n",
       "0               2.37            3.97     no      F       1  \n",
       "1               8.77            3.19      0      F       1  \n",
       "2               8.20            2.03      0      F       0  \n",
       "3               6.18            3.68      0      M       1  \n",
       "4               9.95            4.83    yes      F       1  "
      ]
     },
     "execution_count": 4,
     "metadata": {},
     "output_type": "execute_result"
    }
   ],
   "source": [
    "df.head()"
   ]
  },
  {
   "cell_type": "code",
   "execution_count": 5,
   "id": "2010d858abf2b4f1",
   "metadata": {
    "ExecuteTime": {
     "end_time": "2025-10-24T06:00:31.276811Z",
     "start_time": "2025-10-24T06:00:31.269284Z"
    }
   },
   "outputs": [
    {
     "name": "stdout",
     "output_type": "stream",
     "text": [
      "\n",
      "Очищення та кодування даних\n",
      "\n",
      "Інформація про дані (після очищення):\n",
      "<class 'pandas.core.frame.DataFrame'>\n",
      "RangeIndex: 2000 entries, 0 to 1999\n",
      "Data columns (total 11 columns):\n",
      " #   Column             Non-Null Count  Dtype  \n",
      "---  ------             --------------  -----  \n",
      " 0   age                2000 non-null   int64  \n",
      " 1   height_cm          2000 non-null   int64  \n",
      " 2   weight_kg          2000 non-null   int64  \n",
      " 3   heart_rate         2000 non-null   float64\n",
      " 4   blood_pressure     2000 non-null   float64\n",
      " 5   sleep_hours        2000 non-null   float64\n",
      " 6   nutrition_quality  2000 non-null   float64\n",
      " 7   activity_index     2000 non-null   float64\n",
      " 8   smokes             2000 non-null   int64  \n",
      " 9   gender             2000 non-null   int64  \n",
      " 10  is_fit             2000 non-null   int64  \n",
      "dtypes: float64(5), int64(6)\n",
      "memory usage: 172.0 KB\n"
     ]
    }
   ],
   "source": [
    "# Очищення та кодування даних\n",
    "\n",
    "if not df.empty:\n",
    "    # 2. Очищення та кодування\n",
    "    print(\"\\nОчищення та кодування даних\")\n",
    "    \n",
    "    # Кодування 'gender'\n",
    "    gender_encoder = LabelEncoder()\n",
    "    df['gender'] = gender_encoder.fit_transform(df['gender'])\n",
    "\n",
    "    # Кодування 'smokes'\n",
    "    smokes_mapping = {'no': 0, '0': 0, 0: 0, 'yes': 1, '1': 1, 1: 1}\n",
    "    df['smokes'] = df['smokes'].map(smokes_mapping)\n",
    "\n",
    "    # Заповнення пропусків (NaN)\n",
    "    df['smokes'] = df['smokes'].fillna(df['smokes'].median()) \n",
    "    numeric_cols = df.select_dtypes(include=np.number).columns\n",
    "    df[numeric_cols] = df[numeric_cols].fillna(df[numeric_cols].median())\n",
    "\n",
    "    print(\"\\nІнформація про дані (після очищення):\")\n",
    "    df.info()\n",
    "else:\n",
    "    print(\"DataFrame порожній.\")"
   ]
  },
  {
   "cell_type": "code",
   "execution_count": 6,
   "id": "0ccb925e",
   "metadata": {},
   "outputs": [
    {
     "name": "stdout",
     "output_type": "stream",
     "text": [
      "\n",
      "=Визначення X/y та перевірка балансу\n",
      "\n",
      "Баланс класів (is_fit):\n",
      "is_fit\n",
      "0    60.05\n",
      "1    39.95\n",
      "Name: proportion, dtype: float64\n"
     ]
    }
   ],
   "source": [
    "# Визначення X/y та перевірка балансу\n",
    "\n",
    "if not df.empty:\n",
    "    print(\"\\n=Визначення X/y та перевірка балансу\")\n",
    "    X_df = df.drop(columns=['is_fit'])\n",
    "    y_df = df['is_fit']\n",
    "\n",
    "    print(\"\\nБаланс класів (is_fit):\")\n",
    "    print(y_df.value_counts(normalize=True) * 100)\n",
    "    target_names = ['Not Fit (0)', 'Fit (1)']\n",
    "else:\n",
    "    print(\"DataFrame порожній.\")"
   ]
  },
  {
   "cell_type": "code",
   "execution_count": 7,
   "id": "b0c959ef",
   "metadata": {},
   "outputs": [
    {
     "name": "stdout",
     "output_type": "stream",
     "text": [
      "\n",
      " Масштабування та розділення \n",
      "\n",
      "Розмір тренувальної вибірки (X_train): (1400, 10)\n",
      "Розмір тестової вибірки (X_test): (600, 10)\n"
     ]
    }
   ],
   "source": [
    "# Масштабування та розділення\n",
    "\n",
    "if not df.empty:\n",
    "    print(\"\\n Масштабування та розділення \")\n",
    "    scaler = StandardScaler()\n",
    "    X_scaled = scaler.fit_transform(X_df)\n",
    "\n",
    "    X_train, X_test, y_train, y_test = train_test_split(\n",
    "        X_scaled, y_df, test_size=0.3, random_state=42, stratify=y_df\n",
    "    )\n",
    "\n",
    "    print(f\"\\nРозмір тренувальної вибірки (X_train): {X_train.shape}\")\n",
    "    print(f\"Розмір тестової вибірки (X_test): {X_test.shape}\")\n",
    "else:\n",
    "    print(\"DataFrame порожній.\")"
   ]
  },
  {
   "cell_type": "markdown",
   "id": "14b17a0d88035581",
   "metadata": {},
   "source": [
    "## 2.2. Do training of your k-NN model"
   ]
  },
  {
   "cell_type": "code",
   "execution_count": 8,
   "id": "5069c112be68e457",
   "metadata": {
    "ExecuteTime": {
     "end_time": "2025-10-24T06:19:35.458559Z",
     "start_time": "2025-10-24T06:19:27.972500Z"
    }
   },
   "outputs": [
    {
     "name": "stdout",
     "output_type": "stream",
     "text": [
      "\n",
      " Запуск циклу експериментів \n"
     ]
    },
    {
     "name": "stderr",
     "output_type": "stream",
     "text": [
      "Прогрес експериментів: 100%|██████████| 19/19 [00:27<00:00,  1.44s/it]\n"
     ]
    }
   ],
   "source": [
    "print(\"\\n Запуск циклу експериментів \")\n",
    "\n",
    "experiment_results = []\n",
    "metrics_to_test = [\"manhattan\", \"minkowski\", \"cosine\", \"euclidean\"] \n",
    "k_values = range(1, 32, 2)\n",
    "\n",
    "train_percentages = np.arange(0.05, 1.0, 0.05) \n",
    "\n",
    "for train_percent in tqdm(train_percentages, desc=\"Прогрес експериментів\"):\n",
    "    \n",
    "    try:\n",
    "        X_train_mem, _, y_train_mem, _ = train_test_split(\n",
    "            X_train, y_train, \n",
    "            train_size=train_percent, \n",
    "            random_state=42, \n",
    "            stratify=y_train\n",
    "        )\n",
    "    except ValueError:\n",
    "        continue\n",
    "        \n",
    "    if len(np.unique(y_train_mem)) < 2:\n",
    "        continue\n",
    "\n",
    "    for metric in metrics_to_test:\n",
    "        for k in k_values:\n",
    "            if k >= len(y_train_mem):\n",
    "                continue\n",
    "\n",
    "            knn_model = KNeighborsClassifier(n_neighbors=k, metric=metric)\n",
    "            knn_model.fit(X_train_mem, y_train_mem)\n",
    "            \n",
    "            y_val_pred = knn_model.predict(X_train)\n",
    "            \n",
    "            score = f1_score(y_train, y_val_pred, average='macro')\n",
    "\n",
    "            experiment_results.append((metric, train_percent, k, score))\n"
   ]
  },
  {
   "cell_type": "code",
   "execution_count": 9,
   "id": "aebc98ef4ccc6468",
   "metadata": {
    "ExecuteTime": {
     "end_time": "2025-10-24T06:19:42.268953Z",
     "start_time": "2025-10-24T06:19:42.212086Z"
    }
   },
   "outputs": [
    {
     "name": "stdout",
     "output_type": "stream",
     "text": [
      "\n",
      "Проведено 1216 експериментів.\n",
      "Приклад результатів:\n",
      "[('manhattan', np.float64(0.05), 1, 0.6649165302782324), ('manhattan', np.float64(0.05), 3, 0.692037117244819), ('manhattan', np.float64(0.05), 5, 0.6966085166323546), ('manhattan', np.float64(0.05), 7, 0.6950811261670407), ('manhattan', np.float64(0.05), 9, 0.7009117787595177)]\n"
     ]
    }
   ],
   "source": [
    "print(f\"\\nПроведено {len(experiment_results)} експериментів.\")\n",
    "print(\"Приклад результатів:\")\n",
    "print(experiment_results[:5])"
   ]
  },
  {
   "cell_type": "code",
   "execution_count": 10,
   "id": "820a9fd706271f9d",
   "metadata": {
    "ExecuteTime": {
     "end_time": "2025-10-24T06:34:32.910579Z",
     "start_time": "2025-10-24T06:34:32.796067Z"
    }
   },
   "outputs": [
    {
     "name": "stdout",
     "output_type": "stream",
     "text": [
      "\n",
      "Візуалізація 3D-графіків\n"
     ]
    },
    {
     "data": {
      "application/vnd.plotly.v1+json": {
       "config": {
        "plotlyServerURL": "https://plot.ly"
       },
       "data": [
        {
         "hovertemplate": "train_data_portion=%{x}<br>k=%{y}<br>f1_macro=%{marker.color}<extra></extra>",
         "legendgroup": "",
         "marker": {
          "color": {
           "bdata": "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",
           "dtype": "f8"
          },
          "coloraxis": "coloraxis",
          "size": 3,
          "symbol": "circle"
         },
         "mode": "markers",
         "name": "",
         "scene": "scene",
         "showlegend": false,
         "type": "scatter3d",
         "x": {
          "bdata": "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",
          "dtype": "f8"
         },
         "y": {
          "bdata": "AQMFBwkLDQ8RExUXGRsdHwEDBQcJCw0PERMVFxkbHR8BAwUHCQsNDxETFRcZGx0fAQMFBwkLDQ8RExUXGRsdHwEDBQcJCw0PERMVFxkbHR8BAwUHCQsNDxETFRcZGx0fAQMFBwkLDQ8RExUXGRsdHwEDBQcJCw0PERMVFxkbHR8BAwUHCQsNDxETFRcZGx0fAQMFBwkLDQ8RExUXGRsdHwEDBQcJCw0PERMVFxkbHR8BAwUHCQsNDxETFRcZGx0fAQMFBwkLDQ8RExUXGRsdHwEDBQcJCw0PERMVFxkbHR8BAwUHCQsNDxETFRcZGx0fAQMFBwkLDQ8RExUXGRsdHwEDBQcJCw0PERMVFxkbHR8BAwUHCQsNDxETFRcZGx0fAQMFBwkLDQ8RExUXGRsdHw==",
          "dtype": "i1"
         },
         "z": {
          "bdata": "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",
          "dtype": "f8"
         }
        }
       ],
       "layout": {
        "coloraxis": {
         "colorbar": {
          "title": {
           "text": "f1_macro"
          }
         },
         "colorscale": [
          [
           0,
           "#440154"
          ],
          [
           0.1111111111111111,
           "#482878"
          ],
          [
           0.2222222222222222,
           "#3e4989"
          ],
          [
           0.3333333333333333,
           "#31688e"
          ],
          [
           0.4444444444444444,
           "#26828e"
          ],
          [
           0.5555555555555556,
           "#1f9e89"
          ],
          [
           0.6666666666666666,
           "#35b779"
          ],
          [
           0.7777777777777778,
           "#6ece58"
          ],
          [
           0.8888888888888888,
           "#b5de2b"
          ],
          [
           1,
           "#fde725"
          ]
         ]
        },
        "height": 600,
        "legend": {
         "tracegroupgap": 0
        },
        "scene": {
         "domain": {
          "x": [
           0,
           1
          ],
          "y": [
           0,
           1
          ]
         },
         "xaxis": {
          "title": {
           "text": "Частка тренувальних даних (Train Size)"
          }
         },
         "yaxis": {
          "title": {
           "text": "k (кількість сусідів)"
          }
         },
         "zaxis": {
          "title": {
           "text": "F1-Macro Score"
          }
         }
        },
        "template": {
         "data": {
          "bar": [
           {
            "error_x": {
             "color": "#2a3f5f"
            },
            "error_y": {
             "color": "#2a3f5f"
            },
            "marker": {
             "line": {
              "color": "#E5ECF6",
              "width": 0.5
             },
             "pattern": {
              "fillmode": "overlay",
              "size": 10,
              "solidity": 0.2
             }
            },
            "type": "bar"
           }
          ],
          "barpolar": [
           {
            "marker": {
             "line": {
              "color": "#E5ECF6",
              "width": 0.5
             },
             "pattern": {
              "fillmode": "overlay",
              "size": 10,
              "solidity": 0.2
             }
            },
            "type": "barpolar"
           }
          ],
          "carpet": [
           {
            "aaxis": {
             "endlinecolor": "#2a3f5f",
             "gridcolor": "white",
             "linecolor": "white",
             "minorgridcolor": "white",
             "startlinecolor": "#2a3f5f"
            },
            "baxis": {
             "endlinecolor": "#2a3f5f",
             "gridcolor": "white",
             "linecolor": "white",
             "minorgridcolor": "white",
             "startlinecolor": "#2a3f5f"
            },
            "type": "carpet"
           }
          ],
          "choropleth": [
           {
            "colorbar": {
             "outlinewidth": 0,
             "ticks": ""
            },
            "type": "choropleth"
           }
          ],
          "contour": [
           {
            "colorbar": {
             "outlinewidth": 0,
             "ticks": ""
            },
            "colorscale": [
             [
              0,
              "#0d0887"
             ],
             [
              0.1111111111111111,
              "#46039f"
             ],
             [
              0.2222222222222222,
              "#7201a8"
             ],
             [
              0.3333333333333333,
              "#9c179e"
             ],
             [
              0.4444444444444444,
              "#bd3786"
             ],
             [
              0.5555555555555556,
              "#d8576b"
             ],
             [
              0.6666666666666666,
              "#ed7953"
             ],
             [
              0.7777777777777778,
              "#fb9f3a"
             ],
             [
              0.8888888888888888,
              "#fdca26"
             ],
             [
              1,
              "#f0f921"
             ]
            ],
            "type": "contour"
           }
          ],
          "contourcarpet": [
           {
            "colorbar": {
             "outlinewidth": 0,
             "ticks": ""
            },
            "type": "contourcarpet"
           }
          ],
          "heatmap": [
           {
            "colorbar": {
             "outlinewidth": 0,
             "ticks": ""
            },
            "colorscale": [
             [
              0,
              "#0d0887"
             ],
             [
              0.1111111111111111,
              "#46039f"
             ],
             [
              0.2222222222222222,
              "#7201a8"
             ],
             [
              0.3333333333333333,
              "#9c179e"
             ],
             [
              0.4444444444444444,
              "#bd3786"
             ],
             [
              0.5555555555555556,
              "#d8576b"
             ],
             [
              0.6666666666666666,
              "#ed7953"
             ],
             [
              0.7777777777777778,
              "#fb9f3a"
             ],
             [
              0.8888888888888888,
              "#fdca26"
             ],
             [
              1,
              "#f0f921"
             ]
            ],
            "type": "heatmap"
           }
          ],
          "histogram": [
           {
            "marker": {
             "pattern": {
              "fillmode": "overlay",
              "size": 10,
              "solidity": 0.2
             }
            },
            "type": "histogram"
           }
          ],
          "histogram2d": [
           {
            "colorbar": {
             "outlinewidth": 0,
             "ticks": ""
            },
            "colorscale": [
             [
              0,
              "#0d0887"
             ],
             [
              0.1111111111111111,
              "#46039f"
             ],
             [
              0.2222222222222222,
              "#7201a8"
             ],
             [
              0.3333333333333333,
              "#9c179e"
             ],
             [
              0.4444444444444444,
              "#bd3786"
             ],
             [
              0.5555555555555556,
              "#d8576b"
             ],
             [
              0.6666666666666666,
              "#ed7953"
             ],
             [
              0.7777777777777778,
              "#fb9f3a"
             ],
             [
              0.8888888888888888,
              "#fdca26"
             ],
             [
              1,
              "#f0f921"
             ]
            ],
            "type": "histogram2d"
           }
          ],
          "histogram2dcontour": [
           {
            "colorbar": {
             "outlinewidth": 0,
             "ticks": ""
            },
            "colorscale": [
             [
              0,
              "#0d0887"
             ],
             [
              0.1111111111111111,
              "#46039f"
             ],
             [
              0.2222222222222222,
              "#7201a8"
             ],
             [
              0.3333333333333333,
              "#9c179e"
             ],
             [
              0.4444444444444444,
              "#bd3786"
             ],
             [
              0.5555555555555556,
              "#d8576b"
             ],
             [
              0.6666666666666666,
              "#ed7953"
             ],
             [
              0.7777777777777778,
              "#fb9f3a"
             ],
             [
              0.8888888888888888,
              "#fdca26"
             ],
             [
              1,
              "#f0f921"
             ]
            ],
            "type": "histogram2dcontour"
           }
          ],
          "mesh3d": [
           {
            "colorbar": {
             "outlinewidth": 0,
             "ticks": ""
            },
            "type": "mesh3d"
           }
          ],
          "parcoords": [
           {
            "line": {
             "colorbar": {
              "outlinewidth": 0,
              "ticks": ""
             }
            },
            "type": "parcoords"
           }
          ],
          "pie": [
           {
            "automargin": true,
            "type": "pie"
           }
          ],
          "scatter": [
           {
            "fillpattern": {
             "fillmode": "overlay",
             "size": 10,
             "solidity": 0.2
            },
            "type": "scatter"
           }
          ],
          "scatter3d": [
           {
            "line": {
             "colorbar": {
              "outlinewidth": 0,
              "ticks": ""
             }
            },
            "marker": {
             "colorbar": {
              "outlinewidth": 0,
              "ticks": ""
             }
            },
            "type": "scatter3d"
           }
          ],
          "scattercarpet": [
           {
            "marker": {
             "colorbar": {
              "outlinewidth": 0,
              "ticks": ""
             }
            },
            "type": "scattercarpet"
           }
          ],
          "scattergeo": [
           {
            "marker": {
             "colorbar": {
              "outlinewidth": 0,
              "ticks": ""
             }
            },
            "type": "scattergeo"
           }
          ],
          "scattergl": [
           {
            "marker": {
             "colorbar": {
              "outlinewidth": 0,
              "ticks": ""
             }
            },
            "type": "scattergl"
           }
          ],
          "scattermap": [
           {
            "marker": {
             "colorbar": {
              "outlinewidth": 0,
              "ticks": ""
             }
            },
            "type": "scattermap"
           }
          ],
          "scattermapbox": [
           {
            "marker": {
             "colorbar": {
              "outlinewidth": 0,
              "ticks": ""
             }
            },
            "type": "scattermapbox"
           }
          ],
          "scatterpolar": [
           {
            "marker": {
             "colorbar": {
              "outlinewidth": 0,
              "ticks": ""
             }
            },
            "type": "scatterpolar"
           }
          ],
          "scatterpolargl": [
           {
            "marker": {
             "colorbar": {
              "outlinewidth": 0,
              "ticks": ""
             }
            },
            "type": "scatterpolargl"
           }
          ],
          "scatterternary": [
           {
            "marker": {
             "colorbar": {
              "outlinewidth": 0,
              "ticks": ""
             }
            },
            "type": "scatterternary"
           }
          ],
          "surface": [
           {
            "colorbar": {
             "outlinewidth": 0,
             "ticks": ""
            },
            "colorscale": [
             [
              0,
              "#0d0887"
             ],
             [
              0.1111111111111111,
              "#46039f"
             ],
             [
              0.2222222222222222,
              "#7201a8"
             ],
             [
              0.3333333333333333,
              "#9c179e"
             ],
             [
              0.4444444444444444,
              "#bd3786"
             ],
             [
              0.5555555555555556,
              "#d8576b"
             ],
             [
              0.6666666666666666,
              "#ed7953"
             ],
             [
              0.7777777777777778,
              "#fb9f3a"
             ],
             [
              0.8888888888888888,
              "#fdca26"
             ],
             [
              1,
              "#f0f921"
             ]
            ],
            "type": "surface"
           }
          ],
          "table": [
           {
            "cells": {
             "fill": {
              "color": "#EBF0F8"
             },
             "line": {
              "color": "white"
             }
            },
            "header": {
             "fill": {
              "color": "#C8D4E3"
             },
             "line": {
              "color": "white"
             }
            },
            "type": "table"
           }
          ]
         },
         "layout": {
          "annotationdefaults": {
           "arrowcolor": "#2a3f5f",
           "arrowhead": 0,
           "arrowwidth": 1
          },
          "autotypenumbers": "strict",
          "coloraxis": {
           "colorbar": {
            "outlinewidth": 0,
            "ticks": ""
           }
          },
          "colorscale": {
           "diverging": [
            [
             0,
             "#8e0152"
            ],
            [
             0.1,
             "#c51b7d"
            ],
            [
             0.2,
             "#de77ae"
            ],
            [
             0.3,
             "#f1b6da"
            ],
            [
             0.4,
             "#fde0ef"
            ],
            [
             0.5,
             "#f7f7f7"
            ],
            [
             0.6,
             "#e6f5d0"
            ],
            [
             0.7,
             "#b8e186"
            ],
            [
             0.8,
             "#7fbc41"
            ],
            [
             0.9,
             "#4d9221"
            ],
            [
             1,
             "#276419"
            ]
           ],
           "sequential": [
            [
             0,
             "#0d0887"
            ],
            [
             0.1111111111111111,
             "#46039f"
            ],
            [
             0.2222222222222222,
             "#7201a8"
            ],
            [
             0.3333333333333333,
             "#9c179e"
            ],
            [
             0.4444444444444444,
             "#bd3786"
            ],
            [
             0.5555555555555556,
             "#d8576b"
            ],
            [
             0.6666666666666666,
             "#ed7953"
            ],
            [
             0.7777777777777778,
             "#fb9f3a"
            ],
            [
             0.8888888888888888,
             "#fdca26"
            ],
            [
             1,
             "#f0f921"
            ]
           ],
           "sequentialminus": [
            [
             0,
             "#0d0887"
            ],
            [
             0.1111111111111111,
             "#46039f"
            ],
            [
             0.2222222222222222,
             "#7201a8"
            ],
            [
             0.3333333333333333,
             "#9c179e"
            ],
            [
             0.4444444444444444,
             "#bd3786"
            ],
            [
             0.5555555555555556,
             "#d8576b"
            ],
            [
             0.6666666666666666,
             "#ed7953"
            ],
            [
             0.7777777777777778,
             "#fb9f3a"
            ],
            [
             0.8888888888888888,
             "#fdca26"
            ],
            [
             1,
             "#f0f921"
            ]
           ]
          },
          "colorway": [
           "#636efa",
           "#EF553B",
           "#00cc96",
           "#ab63fa",
           "#FFA15A",
           "#19d3f3",
           "#FF6692",
           "#B6E880",
           "#FF97FF",
           "#FECB52"
          ],
          "font": {
           "color": "#2a3f5f"
          },
          "geo": {
           "bgcolor": "white",
           "lakecolor": "white",
           "landcolor": "#E5ECF6",
           "showlakes": true,
           "showland": true,
           "subunitcolor": "white"
          },
          "hoverlabel": {
           "align": "left"
          },
          "hovermode": "closest",
          "mapbox": {
           "style": "light"
          },
          "paper_bgcolor": "white",
          "plot_bgcolor": "#E5ECF6",
          "polar": {
           "angularaxis": {
            "gridcolor": "white",
            "linecolor": "white",
            "ticks": ""
           },
           "bgcolor": "#E5ECF6",
           "radialaxis": {
            "gridcolor": "white",
            "linecolor": "white",
            "ticks": ""
           }
          },
          "scene": {
           "xaxis": {
            "backgroundcolor": "#E5ECF6",
            "gridcolor": "white",
            "gridwidth": 2,
            "linecolor": "white",
            "showbackground": true,
            "ticks": "",
            "zerolinecolor": "white"
           },
           "yaxis": {
            "backgroundcolor": "#E5ECF6",
            "gridcolor": "white",
            "gridwidth": 2,
            "linecolor": "white",
            "showbackground": true,
            "ticks": "",
            "zerolinecolor": "white"
           },
           "zaxis": {
            "backgroundcolor": "#E5ECF6",
            "gridcolor": "white",
            "gridwidth": 2,
            "linecolor": "white",
            "showbackground": true,
            "ticks": "",
            "zerolinecolor": "white"
           }
          },
          "shapedefaults": {
           "line": {
            "color": "#2a3f5f"
           }
          },
          "ternary": {
           "aaxis": {
            "gridcolor": "white",
            "linecolor": "white",
            "ticks": ""
           },
           "baxis": {
            "gridcolor": "white",
            "linecolor": "white",
            "ticks": ""
           },
           "bgcolor": "#E5ECF6",
           "caxis": {
            "gridcolor": "white",
            "linecolor": "white",
            "ticks": ""
           }
          },
          "title": {
           "x": 0.05
          },
          "xaxis": {
           "automargin": true,
           "gridcolor": "white",
           "linecolor": "white",
           "ticks": "",
           "title": {
            "standoff": 15
           },
           "zerolinecolor": "white",
           "zerolinewidth": 2
          },
          "yaxis": {
           "automargin": true,
           "gridcolor": "white",
           "linecolor": "white",
           "ticks": "",
           "title": {
            "standoff": 15
           },
           "zerolinecolor": "white",
           "zerolinewidth": 2
          }
         }
        },
        "title": {
         "text": "k-NN F1-Macro (Fitness) | Метрика: *manhattan*"
        },
        "width": 800
       }
      }
     },
     "metadata": {},
     "output_type": "display_data"
    },
    {
     "data": {
      "application/vnd.plotly.v1+json": {
       "config": {
        "plotlyServerURL": "https://plot.ly"
       },
       "data": [
        {
         "hovertemplate": "train_data_portion=%{x}<br>k=%{y}<br>f1_macro=%{marker.color}<extra></extra>",
         "legendgroup": "",
         "marker": {
          "color": {
           "bdata": "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",
           "dtype": "f8"
          },
          "coloraxis": "coloraxis",
          "size": 3,
          "symbol": "circle"
         },
         "mode": "markers",
         "name": "",
         "scene": "scene",
         "showlegend": false,
         "type": "scatter3d",
         "x": {
          "bdata": "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",
          "dtype": "f8"
         },
         "y": {
          "bdata": "AQMFBwkLDQ8RExUXGRsdHwEDBQcJCw0PERMVFxkbHR8BAwUHCQsNDxETFRcZGx0fAQMFBwkLDQ8RExUXGRsdHwEDBQcJCw0PERMVFxkbHR8BAwUHCQsNDxETFRcZGx0fAQMFBwkLDQ8RExUXGRsdHwEDBQcJCw0PERMVFxkbHR8BAwUHCQsNDxETFRcZGx0fAQMFBwkLDQ8RExUXGRsdHwEDBQcJCw0PERMVFxkbHR8BAwUHCQsNDxETFRcZGx0fAQMFBwkLDQ8RExUXGRsdHwEDBQcJCw0PERMVFxkbHR8BAwUHCQsNDxETFRcZGx0fAQMFBwkLDQ8RExUXGRsdHwEDBQcJCw0PERMVFxkbHR8BAwUHCQsNDxETFRcZGx0fAQMFBwkLDQ8RExUXGRsdHw==",
          "dtype": "i1"
         },
         "z": {
          "bdata": "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",
          "dtype": "f8"
         }
        }
       ],
       "layout": {
        "coloraxis": {
         "colorbar": {
          "title": {
           "text": "f1_macro"
          }
         },
         "colorscale": [
          [
           0,
           "#440154"
          ],
          [
           0.1111111111111111,
           "#482878"
          ],
          [
           0.2222222222222222,
           "#3e4989"
          ],
          [
           0.3333333333333333,
           "#31688e"
          ],
          [
           0.4444444444444444,
           "#26828e"
          ],
          [
           0.5555555555555556,
           "#1f9e89"
          ],
          [
           0.6666666666666666,
           "#35b779"
          ],
          [
           0.7777777777777778,
           "#6ece58"
          ],
          [
           0.8888888888888888,
           "#b5de2b"
          ],
          [
           1,
           "#fde725"
          ]
         ]
        },
        "height": 600,
        "legend": {
         "tracegroupgap": 0
        },
        "scene": {
         "domain": {
          "x": [
           0,
           1
          ],
          "y": [
           0,
           1
          ]
         },
         "xaxis": {
          "title": {
           "text": "Частка тренувальних даних (Train Size)"
          }
         },
         "yaxis": {
          "title": {
           "text": "k (кількість сусідів)"
          }
         },
         "zaxis": {
          "title": {
           "text": "F1-Macro Score"
          }
         }
        },
        "template": {
         "data": {
          "bar": [
           {
            "error_x": {
             "color": "#2a3f5f"
            },
            "error_y": {
             "color": "#2a3f5f"
            },
            "marker": {
             "line": {
              "color": "#E5ECF6",
              "width": 0.5
             },
             "pattern": {
              "fillmode": "overlay",
              "size": 10,
              "solidity": 0.2
             }
            },
            "type": "bar"
           }
          ],
          "barpolar": [
           {
            "marker": {
             "line": {
              "color": "#E5ECF6",
              "width": 0.5
             },
             "pattern": {
              "fillmode": "overlay",
              "size": 10,
              "solidity": 0.2
             }
            },
            "type": "barpolar"
           }
          ],
          "carpet": [
           {
            "aaxis": {
             "endlinecolor": "#2a3f5f",
             "gridcolor": "white",
             "linecolor": "white",
             "minorgridcolor": "white",
             "startlinecolor": "#2a3f5f"
            },
            "baxis": {
             "endlinecolor": "#2a3f5f",
             "gridcolor": "white",
             "linecolor": "white",
             "minorgridcolor": "white",
             "startlinecolor": "#2a3f5f"
            },
            "type": "carpet"
           }
          ],
          "choropleth": [
           {
            "colorbar": {
             "outlinewidth": 0,
             "ticks": ""
            },
            "type": "choropleth"
           }
          ],
          "contour": [
           {
            "colorbar": {
             "outlinewidth": 0,
             "ticks": ""
            },
            "colorscale": [
             [
              0,
              "#0d0887"
             ],
             [
              0.1111111111111111,
              "#46039f"
             ],
             [
              0.2222222222222222,
              "#7201a8"
             ],
             [
              0.3333333333333333,
              "#9c179e"
             ],
             [
              0.4444444444444444,
              "#bd3786"
             ],
             [
              0.5555555555555556,
              "#d8576b"
             ],
             [
              0.6666666666666666,
              "#ed7953"
             ],
             [
              0.7777777777777778,
              "#fb9f3a"
             ],
             [
              0.8888888888888888,
              "#fdca26"
             ],
             [
              1,
              "#f0f921"
             ]
            ],
            "type": "contour"
           }
          ],
          "contourcarpet": [
           {
            "colorbar": {
             "outlinewidth": 0,
             "ticks": ""
            },
            "type": "contourcarpet"
           }
          ],
          "heatmap": [
           {
            "colorbar": {
             "outlinewidth": 0,
             "ticks": ""
            },
            "colorscale": [
             [
              0,
              "#0d0887"
             ],
             [
              0.1111111111111111,
              "#46039f"
             ],
             [
              0.2222222222222222,
              "#7201a8"
             ],
             [
              0.3333333333333333,
              "#9c179e"
             ],
             [
              0.4444444444444444,
              "#bd3786"
             ],
             [
              0.5555555555555556,
              "#d8576b"
             ],
             [
              0.6666666666666666,
              "#ed7953"
             ],
             [
              0.7777777777777778,
              "#fb9f3a"
             ],
             [
              0.8888888888888888,
              "#fdca26"
             ],
             [
              1,
              "#f0f921"
             ]
            ],
            "type": "heatmap"
           }
          ],
          "histogram": [
           {
            "marker": {
             "pattern": {
              "fillmode": "overlay",
              "size": 10,
              "solidity": 0.2
             }
            },
            "type": "histogram"
           }
          ],
          "histogram2d": [
           {
            "colorbar": {
             "outlinewidth": 0,
             "ticks": ""
            },
            "colorscale": [
             [
              0,
              "#0d0887"
             ],
             [
              0.1111111111111111,
              "#46039f"
             ],
             [
              0.2222222222222222,
              "#7201a8"
             ],
             [
              0.3333333333333333,
              "#9c179e"
             ],
             [
              0.4444444444444444,
              "#bd3786"
             ],
             [
              0.5555555555555556,
              "#d8576b"
             ],
             [
              0.6666666666666666,
              "#ed7953"
             ],
             [
              0.7777777777777778,
              "#fb9f3a"
             ],
             [
              0.8888888888888888,
              "#fdca26"
             ],
             [
              1,
              "#f0f921"
             ]
            ],
            "type": "histogram2d"
           }
          ],
          "histogram2dcontour": [
           {
            "colorbar": {
             "outlinewidth": 0,
             "ticks": ""
            },
            "colorscale": [
             [
              0,
              "#0d0887"
             ],
             [
              0.1111111111111111,
              "#46039f"
             ],
             [
              0.2222222222222222,
              "#7201a8"
             ],
             [
              0.3333333333333333,
              "#9c179e"
             ],
             [
              0.4444444444444444,
              "#bd3786"
             ],
             [
              0.5555555555555556,
              "#d8576b"
             ],
             [
              0.6666666666666666,
              "#ed7953"
             ],
             [
              0.7777777777777778,
              "#fb9f3a"
             ],
             [
              0.8888888888888888,
              "#fdca26"
             ],
             [
              1,
              "#f0f921"
             ]
            ],
            "type": "histogram2dcontour"
           }
          ],
          "mesh3d": [
           {
            "colorbar": {
             "outlinewidth": 0,
             "ticks": ""
            },
            "type": "mesh3d"
           }
          ],
          "parcoords": [
           {
            "line": {
             "colorbar": {
              "outlinewidth": 0,
              "ticks": ""
             }
            },
            "type": "parcoords"
           }
          ],
          "pie": [
           {
            "automargin": true,
            "type": "pie"
           }
          ],
          "scatter": [
           {
            "fillpattern": {
             "fillmode": "overlay",
             "size": 10,
             "solidity": 0.2
            },
            "type": "scatter"
           }
          ],
          "scatter3d": [
           {
            "line": {
             "colorbar": {
              "outlinewidth": 0,
              "ticks": ""
             }
            },
            "marker": {
             "colorbar": {
              "outlinewidth": 0,
              "ticks": ""
             }
            },
            "type": "scatter3d"
           }
          ],
          "scattercarpet": [
           {
            "marker": {
             "colorbar": {
              "outlinewidth": 0,
              "ticks": ""
             }
            },
            "type": "scattercarpet"
           }
          ],
          "scattergeo": [
           {
            "marker": {
             "colorbar": {
              "outlinewidth": 0,
              "ticks": ""
             }
            },
            "type": "scattergeo"
           }
          ],
          "scattergl": [
           {
            "marker": {
             "colorbar": {
              "outlinewidth": 0,
              "ticks": ""
             }
            },
            "type": "scattergl"
           }
          ],
          "scattermap": [
           {
            "marker": {
             "colorbar": {
              "outlinewidth": 0,
              "ticks": ""
             }
            },
            "type": "scattermap"
           }
          ],
          "scattermapbox": [
           {
            "marker": {
             "colorbar": {
              "outlinewidth": 0,
              "ticks": ""
             }
            },
            "type": "scattermapbox"
           }
          ],
          "scatterpolar": [
           {
            "marker": {
             "colorbar": {
              "outlinewidth": 0,
              "ticks": ""
             }
            },
            "type": "scatterpolar"
           }
          ],
          "scatterpolargl": [
           {
            "marker": {
             "colorbar": {
              "outlinewidth": 0,
              "ticks": ""
             }
            },
            "type": "scatterpolargl"
           }
          ],
          "scatterternary": [
           {
            "marker": {
             "colorbar": {
              "outlinewidth": 0,
              "ticks": ""
             }
            },
            "type": "scatterternary"
           }
          ],
          "surface": [
           {
            "colorbar": {
             "outlinewidth": 0,
             "ticks": ""
            },
            "colorscale": [
             [
              0,
              "#0d0887"
             ],
             [
              0.1111111111111111,
              "#46039f"
             ],
             [
              0.2222222222222222,
              "#7201a8"
             ],
             [
              0.3333333333333333,
              "#9c179e"
             ],
             [
              0.4444444444444444,
              "#bd3786"
             ],
             [
              0.5555555555555556,
              "#d8576b"
             ],
             [
              0.6666666666666666,
              "#ed7953"
             ],
             [
              0.7777777777777778,
              "#fb9f3a"
             ],
             [
              0.8888888888888888,
              "#fdca26"
             ],
             [
              1,
              "#f0f921"
             ]
            ],
            "type": "surface"
           }
          ],
          "table": [
           {
            "cells": {
             "fill": {
              "color": "#EBF0F8"
             },
             "line": {
              "color": "white"
             }
            },
            "header": {
             "fill": {
              "color": "#C8D4E3"
             },
             "line": {
              "color": "white"
             }
            },
            "type": "table"
           }
          ]
         },
         "layout": {
          "annotationdefaults": {
           "arrowcolor": "#2a3f5f",
           "arrowhead": 0,
           "arrowwidth": 1
          },
          "autotypenumbers": "strict",
          "coloraxis": {
           "colorbar": {
            "outlinewidth": 0,
            "ticks": ""
           }
          },
          "colorscale": {
           "diverging": [
            [
             0,
             "#8e0152"
            ],
            [
             0.1,
             "#c51b7d"
            ],
            [
             0.2,
             "#de77ae"
            ],
            [
             0.3,
             "#f1b6da"
            ],
            [
             0.4,
             "#fde0ef"
            ],
            [
             0.5,
             "#f7f7f7"
            ],
            [
             0.6,
             "#e6f5d0"
            ],
            [
             0.7,
             "#b8e186"
            ],
            [
             0.8,
             "#7fbc41"
            ],
            [
             0.9,
             "#4d9221"
            ],
            [
             1,
             "#276419"
            ]
           ],
           "sequential": [
            [
             0,
             "#0d0887"
            ],
            [
             0.1111111111111111,
             "#46039f"
            ],
            [
             0.2222222222222222,
             "#7201a8"
            ],
            [
             0.3333333333333333,
             "#9c179e"
            ],
            [
             0.4444444444444444,
             "#bd3786"
            ],
            [
             0.5555555555555556,
             "#d8576b"
            ],
            [
             0.6666666666666666,
             "#ed7953"
            ],
            [
             0.7777777777777778,
             "#fb9f3a"
            ],
            [
             0.8888888888888888,
             "#fdca26"
            ],
            [
             1,
             "#f0f921"
            ]
           ],
           "sequentialminus": [
            [
             0,
             "#0d0887"
            ],
            [
             0.1111111111111111,
             "#46039f"
            ],
            [
             0.2222222222222222,
             "#7201a8"
            ],
            [
             0.3333333333333333,
             "#9c179e"
            ],
            [
             0.4444444444444444,
             "#bd3786"
            ],
            [
             0.5555555555555556,
             "#d8576b"
            ],
            [
             0.6666666666666666,
             "#ed7953"
            ],
            [
             0.7777777777777778,
             "#fb9f3a"
            ],
            [
             0.8888888888888888,
             "#fdca26"
            ],
            [
             1,
             "#f0f921"
            ]
           ]
          },
          "colorway": [
           "#636efa",
           "#EF553B",
           "#00cc96",
           "#ab63fa",
           "#FFA15A",
           "#19d3f3",
           "#FF6692",
           "#B6E880",
           "#FF97FF",
           "#FECB52"
          ],
          "font": {
           "color": "#2a3f5f"
          },
          "geo": {
           "bgcolor": "white",
           "lakecolor": "white",
           "landcolor": "#E5ECF6",
           "showlakes": true,
           "showland": true,
           "subunitcolor": "white"
          },
          "hoverlabel": {
           "align": "left"
          },
          "hovermode": "closest",
          "mapbox": {
           "style": "light"
          },
          "paper_bgcolor": "white",
          "plot_bgcolor": "#E5ECF6",
          "polar": {
           "angularaxis": {
            "gridcolor": "white",
            "linecolor": "white",
            "ticks": ""
           },
           "bgcolor": "#E5ECF6",
           "radialaxis": {
            "gridcolor": "white",
            "linecolor": "white",
            "ticks": ""
           }
          },
          "scene": {
           "xaxis": {
            "backgroundcolor": "#E5ECF6",
            "gridcolor": "white",
            "gridwidth": 2,
            "linecolor": "white",
            "showbackground": true,
            "ticks": "",
            "zerolinecolor": "white"
           },
           "yaxis": {
            "backgroundcolor": "#E5ECF6",
            "gridcolor": "white",
            "gridwidth": 2,
            "linecolor": "white",
            "showbackground": true,
            "ticks": "",
            "zerolinecolor": "white"
           },
           "zaxis": {
            "backgroundcolor": "#E5ECF6",
            "gridcolor": "white",
            "gridwidth": 2,
            "linecolor": "white",
            "showbackground": true,
            "ticks": "",
            "zerolinecolor": "white"
           }
          },
          "shapedefaults": {
           "line": {
            "color": "#2a3f5f"
           }
          },
          "ternary": {
           "aaxis": {
            "gridcolor": "white",
            "linecolor": "white",
            "ticks": ""
           },
           "baxis": {
            "gridcolor": "white",
            "linecolor": "white",
            "ticks": ""
           },
           "bgcolor": "#E5ECF6",
           "caxis": {
            "gridcolor": "white",
            "linecolor": "white",
            "ticks": ""
           }
          },
          "title": {
           "x": 0.05
          },
          "xaxis": {
           "automargin": true,
           "gridcolor": "white",
           "linecolor": "white",
           "ticks": "",
           "title": {
            "standoff": 15
           },
           "zerolinecolor": "white",
           "zerolinewidth": 2
          },
          "yaxis": {
           "automargin": true,
           "gridcolor": "white",
           "linecolor": "white",
           "ticks": "",
           "title": {
            "standoff": 15
           },
           "zerolinecolor": "white",
           "zerolinewidth": 2
          }
         }
        },
        "title": {
         "text": "k-NN F1-Macro (Fitness) | Метрика: *minkowski*"
        },
        "width": 800
       }
      }
     },
     "metadata": {},
     "output_type": "display_data"
    },
    {
     "data": {
      "application/vnd.plotly.v1+json": {
       "config": {
        "plotlyServerURL": "https://plot.ly"
       },
       "data": [
        {
         "hovertemplate": "train_data_portion=%{x}<br>k=%{y}<br>f1_macro=%{marker.color}<extra></extra>",
         "legendgroup": "",
         "marker": {
          "color": {
           "bdata": "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",
           "dtype": "f8"
          },
          "coloraxis": "coloraxis",
          "size": 3,
          "symbol": "circle"
         },
         "mode": "markers",
         "name": "",
         "scene": "scene",
         "showlegend": false,
         "type": "scatter3d",
         "x": {
          "bdata": "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",
          "dtype": "f8"
         },
         "y": {
          "bdata": "AQMFBwkLDQ8RExUXGRsdHwEDBQcJCw0PERMVFxkbHR8BAwUHCQsNDxETFRcZGx0fAQMFBwkLDQ8RExUXGRsdHwEDBQcJCw0PERMVFxkbHR8BAwUHCQsNDxETFRcZGx0fAQMFBwkLDQ8RExUXGRsdHwEDBQcJCw0PERMVFxkbHR8BAwUHCQsNDxETFRcZGx0fAQMFBwkLDQ8RExUXGRsdHwEDBQcJCw0PERMVFxkbHR8BAwUHCQsNDxETFRcZGx0fAQMFBwkLDQ8RExUXGRsdHwEDBQcJCw0PERMVFxkbHR8BAwUHCQsNDxETFRcZGx0fAQMFBwkLDQ8RExUXGRsdHwEDBQcJCw0PERMVFxkbHR8BAwUHCQsNDxETFRcZGx0fAQMFBwkLDQ8RExUXGRsdHw==",
          "dtype": "i1"
         },
         "z": {
          "bdata": "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",
          "dtype": "f8"
         }
        }
       ],
       "layout": {
        "coloraxis": {
         "colorbar": {
          "title": {
           "text": "f1_macro"
          }
         },
         "colorscale": [
          [
           0,
           "#440154"
          ],
          [
           0.1111111111111111,
           "#482878"
          ],
          [
           0.2222222222222222,
           "#3e4989"
          ],
          [
           0.3333333333333333,
           "#31688e"
          ],
          [
           0.4444444444444444,
           "#26828e"
          ],
          [
           0.5555555555555556,
           "#1f9e89"
          ],
          [
           0.6666666666666666,
           "#35b779"
          ],
          [
           0.7777777777777778,
           "#6ece58"
          ],
          [
           0.8888888888888888,
           "#b5de2b"
          ],
          [
           1,
           "#fde725"
          ]
         ]
        },
        "height": 600,
        "legend": {
         "tracegroupgap": 0
        },
        "scene": {
         "domain": {
          "x": [
           0,
           1
          ],
          "y": [
           0,
           1
          ]
         },
         "xaxis": {
          "title": {
           "text": "Частка тренувальних даних (Train Size)"
          }
         },
         "yaxis": {
          "title": {
           "text": "k (кількість сусідів)"
          }
         },
         "zaxis": {
          "title": {
           "text": "F1-Macro Score"
          }
         }
        },
        "template": {
         "data": {
          "bar": [
           {
            "error_x": {
             "color": "#2a3f5f"
            },
            "error_y": {
             "color": "#2a3f5f"
            },
            "marker": {
             "line": {
              "color": "#E5ECF6",
              "width": 0.5
             },
             "pattern": {
              "fillmode": "overlay",
              "size": 10,
              "solidity": 0.2
             }
            },
            "type": "bar"
           }
          ],
          "barpolar": [
           {
            "marker": {
             "line": {
              "color": "#E5ECF6",
              "width": 0.5
             },
             "pattern": {
              "fillmode": "overlay",
              "size": 10,
              "solidity": 0.2
             }
            },
            "type": "barpolar"
           }
          ],
          "carpet": [
           {
            "aaxis": {
             "endlinecolor": "#2a3f5f",
             "gridcolor": "white",
             "linecolor": "white",
             "minorgridcolor": "white",
             "startlinecolor": "#2a3f5f"
            },
            "baxis": {
             "endlinecolor": "#2a3f5f",
             "gridcolor": "white",
             "linecolor": "white",
             "minorgridcolor": "white",
             "startlinecolor": "#2a3f5f"
            },
            "type": "carpet"
           }
          ],
          "choropleth": [
           {
            "colorbar": {
             "outlinewidth": 0,
             "ticks": ""
            },
            "type": "choropleth"
           }
          ],
          "contour": [
           {
            "colorbar": {
             "outlinewidth": 0,
             "ticks": ""
            },
            "colorscale": [
             [
              0,
              "#0d0887"
             ],
             [
              0.1111111111111111,
              "#46039f"
             ],
             [
              0.2222222222222222,
              "#7201a8"
             ],
             [
              0.3333333333333333,
              "#9c179e"
             ],
             [
              0.4444444444444444,
              "#bd3786"
             ],
             [
              0.5555555555555556,
              "#d8576b"
             ],
             [
              0.6666666666666666,
              "#ed7953"
             ],
             [
              0.7777777777777778,
              "#fb9f3a"
             ],
             [
              0.8888888888888888,
              "#fdca26"
             ],
             [
              1,
              "#f0f921"
             ]
            ],
            "type": "contour"
           }
          ],
          "contourcarpet": [
           {
            "colorbar": {
             "outlinewidth": 0,
             "ticks": ""
            },
            "type": "contourcarpet"
           }
          ],
          "heatmap": [
           {
            "colorbar": {
             "outlinewidth": 0,
             "ticks": ""
            },
            "colorscale": [
             [
              0,
              "#0d0887"
             ],
             [
              0.1111111111111111,
              "#46039f"
             ],
             [
              0.2222222222222222,
              "#7201a8"
             ],
             [
              0.3333333333333333,
              "#9c179e"
             ],
             [
              0.4444444444444444,
              "#bd3786"
             ],
             [
              0.5555555555555556,
              "#d8576b"
             ],
             [
              0.6666666666666666,
              "#ed7953"
             ],
             [
              0.7777777777777778,
              "#fb9f3a"
             ],
             [
              0.8888888888888888,
              "#fdca26"
             ],
             [
              1,
              "#f0f921"
             ]
            ],
            "type": "heatmap"
           }
          ],
          "histogram": [
           {
            "marker": {
             "pattern": {
              "fillmode": "overlay",
              "size": 10,
              "solidity": 0.2
             }
            },
            "type": "histogram"
           }
          ],
          "histogram2d": [
           {
            "colorbar": {
             "outlinewidth": 0,
             "ticks": ""
            },
            "colorscale": [
             [
              0,
              "#0d0887"
             ],
             [
              0.1111111111111111,
              "#46039f"
             ],
             [
              0.2222222222222222,
              "#7201a8"
             ],
             [
              0.3333333333333333,
              "#9c179e"
             ],
             [
              0.4444444444444444,
              "#bd3786"
             ],
             [
              0.5555555555555556,
              "#d8576b"
             ],
             [
              0.6666666666666666,
              "#ed7953"
             ],
             [
              0.7777777777777778,
              "#fb9f3a"
             ],
             [
              0.8888888888888888,
              "#fdca26"
             ],
             [
              1,
              "#f0f921"
             ]
            ],
            "type": "histogram2d"
           }
          ],
          "histogram2dcontour": [
           {
            "colorbar": {
             "outlinewidth": 0,
             "ticks": ""
            },
            "colorscale": [
             [
              0,
              "#0d0887"
             ],
             [
              0.1111111111111111,
              "#46039f"
             ],
             [
              0.2222222222222222,
              "#7201a8"
             ],
             [
              0.3333333333333333,
              "#9c179e"
             ],
             [
              0.4444444444444444,
              "#bd3786"
             ],
             [
              0.5555555555555556,
              "#d8576b"
             ],
             [
              0.6666666666666666,
              "#ed7953"
             ],
             [
              0.7777777777777778,
              "#fb9f3a"
             ],
             [
              0.8888888888888888,
              "#fdca26"
             ],
             [
              1,
              "#f0f921"
             ]
            ],
            "type": "histogram2dcontour"
           }
          ],
          "mesh3d": [
           {
            "colorbar": {
             "outlinewidth": 0,
             "ticks": ""
            },
            "type": "mesh3d"
           }
          ],
          "parcoords": [
           {
            "line": {
             "colorbar": {
              "outlinewidth": 0,
              "ticks": ""
             }
            },
            "type": "parcoords"
           }
          ],
          "pie": [
           {
            "automargin": true,
            "type": "pie"
           }
          ],
          "scatter": [
           {
            "fillpattern": {
             "fillmode": "overlay",
             "size": 10,
             "solidity": 0.2
            },
            "type": "scatter"
           }
          ],
          "scatter3d": [
           {
            "line": {
             "colorbar": {
              "outlinewidth": 0,
              "ticks": ""
             }
            },
            "marker": {
             "colorbar": {
              "outlinewidth": 0,
              "ticks": ""
             }
            },
            "type": "scatter3d"
           }
          ],
          "scattercarpet": [
           {
            "marker": {
             "colorbar": {
              "outlinewidth": 0,
              "ticks": ""
             }
            },
            "type": "scattercarpet"
           }
          ],
          "scattergeo": [
           {
            "marker": {
             "colorbar": {
              "outlinewidth": 0,
              "ticks": ""
             }
            },
            "type": "scattergeo"
           }
          ],
          "scattergl": [
           {
            "marker": {
             "colorbar": {
              "outlinewidth": 0,
              "ticks": ""
             }
            },
            "type": "scattergl"
           }
          ],
          "scattermap": [
           {
            "marker": {
             "colorbar": {
              "outlinewidth": 0,
              "ticks": ""
             }
            },
            "type": "scattermap"
           }
          ],
          "scattermapbox": [
           {
            "marker": {
             "colorbar": {
              "outlinewidth": 0,
              "ticks": ""
             }
            },
            "type": "scattermapbox"
           }
          ],
          "scatterpolar": [
           {
            "marker": {
             "colorbar": {
              "outlinewidth": 0,
              "ticks": ""
             }
            },
            "type": "scatterpolar"
           }
          ],
          "scatterpolargl": [
           {
            "marker": {
             "colorbar": {
              "outlinewidth": 0,
              "ticks": ""
             }
            },
            "type": "scatterpolargl"
           }
          ],
          "scatterternary": [
           {
            "marker": {
             "colorbar": {
              "outlinewidth": 0,
              "ticks": ""
             }
            },
            "type": "scatterternary"
           }
          ],
          "surface": [
           {
            "colorbar": {
             "outlinewidth": 0,
             "ticks": ""
            },
            "colorscale": [
             [
              0,
              "#0d0887"
             ],
             [
              0.1111111111111111,
              "#46039f"
             ],
             [
              0.2222222222222222,
              "#7201a8"
             ],
             [
              0.3333333333333333,
              "#9c179e"
             ],
             [
              0.4444444444444444,
              "#bd3786"
             ],
             [
              0.5555555555555556,
              "#d8576b"
             ],
             [
              0.6666666666666666,
              "#ed7953"
             ],
             [
              0.7777777777777778,
              "#fb9f3a"
             ],
             [
              0.8888888888888888,
              "#fdca26"
             ],
             [
              1,
              "#f0f921"
             ]
            ],
            "type": "surface"
           }
          ],
          "table": [
           {
            "cells": {
             "fill": {
              "color": "#EBF0F8"
             },
             "line": {
              "color": "white"
             }
            },
            "header": {
             "fill": {
              "color": "#C8D4E3"
             },
             "line": {
              "color": "white"
             }
            },
            "type": "table"
           }
          ]
         },
         "layout": {
          "annotationdefaults": {
           "arrowcolor": "#2a3f5f",
           "arrowhead": 0,
           "arrowwidth": 1
          },
          "autotypenumbers": "strict",
          "coloraxis": {
           "colorbar": {
            "outlinewidth": 0,
            "ticks": ""
           }
          },
          "colorscale": {
           "diverging": [
            [
             0,
             "#8e0152"
            ],
            [
             0.1,
             "#c51b7d"
            ],
            [
             0.2,
             "#de77ae"
            ],
            [
             0.3,
             "#f1b6da"
            ],
            [
             0.4,
             "#fde0ef"
            ],
            [
             0.5,
             "#f7f7f7"
            ],
            [
             0.6,
             "#e6f5d0"
            ],
            [
             0.7,
             "#b8e186"
            ],
            [
             0.8,
             "#7fbc41"
            ],
            [
             0.9,
             "#4d9221"
            ],
            [
             1,
             "#276419"
            ]
           ],
           "sequential": [
            [
             0,
             "#0d0887"
            ],
            [
             0.1111111111111111,
             "#46039f"
            ],
            [
             0.2222222222222222,
             "#7201a8"
            ],
            [
             0.3333333333333333,
             "#9c179e"
            ],
            [
             0.4444444444444444,
             "#bd3786"
            ],
            [
             0.5555555555555556,
             "#d8576b"
            ],
            [
             0.6666666666666666,
             "#ed7953"
            ],
            [
             0.7777777777777778,
             "#fb9f3a"
            ],
            [
             0.8888888888888888,
             "#fdca26"
            ],
            [
             1,
             "#f0f921"
            ]
           ],
           "sequentialminus": [
            [
             0,
             "#0d0887"
            ],
            [
             0.1111111111111111,
             "#46039f"
            ],
            [
             0.2222222222222222,
             "#7201a8"
            ],
            [
             0.3333333333333333,
             "#9c179e"
            ],
            [
             0.4444444444444444,
             "#bd3786"
            ],
            [
             0.5555555555555556,
             "#d8576b"
            ],
            [
             0.6666666666666666,
             "#ed7953"
            ],
            [
             0.7777777777777778,
             "#fb9f3a"
            ],
            [
             0.8888888888888888,
             "#fdca26"
            ],
            [
             1,
             "#f0f921"
            ]
           ]
          },
          "colorway": [
           "#636efa",
           "#EF553B",
           "#00cc96",
           "#ab63fa",
           "#FFA15A",
           "#19d3f3",
           "#FF6692",
           "#B6E880",
           "#FF97FF",
           "#FECB52"
          ],
          "font": {
           "color": "#2a3f5f"
          },
          "geo": {
           "bgcolor": "white",
           "lakecolor": "white",
           "landcolor": "#E5ECF6",
           "showlakes": true,
           "showland": true,
           "subunitcolor": "white"
          },
          "hoverlabel": {
           "align": "left"
          },
          "hovermode": "closest",
          "mapbox": {
           "style": "light"
          },
          "paper_bgcolor": "white",
          "plot_bgcolor": "#E5ECF6",
          "polar": {
           "angularaxis": {
            "gridcolor": "white",
            "linecolor": "white",
            "ticks": ""
           },
           "bgcolor": "#E5ECF6",
           "radialaxis": {
            "gridcolor": "white",
            "linecolor": "white",
            "ticks": ""
           }
          },
          "scene": {
           "xaxis": {
            "backgroundcolor": "#E5ECF6",
            "gridcolor": "white",
            "gridwidth": 2,
            "linecolor": "white",
            "showbackground": true,
            "ticks": "",
            "zerolinecolor": "white"
           },
           "yaxis": {
            "backgroundcolor": "#E5ECF6",
            "gridcolor": "white",
            "gridwidth": 2,
            "linecolor": "white",
            "showbackground": true,
            "ticks": "",
            "zerolinecolor": "white"
           },
           "zaxis": {
            "backgroundcolor": "#E5ECF6",
            "gridcolor": "white",
            "gridwidth": 2,
            "linecolor": "white",
            "showbackground": true,
            "ticks": "",
            "zerolinecolor": "white"
           }
          },
          "shapedefaults": {
           "line": {
            "color": "#2a3f5f"
           }
          },
          "ternary": {
           "aaxis": {
            "gridcolor": "white",
            "linecolor": "white",
            "ticks": ""
           },
           "baxis": {
            "gridcolor": "white",
            "linecolor": "white",
            "ticks": ""
           },
           "bgcolor": "#E5ECF6",
           "caxis": {
            "gridcolor": "white",
            "linecolor": "white",
            "ticks": ""
           }
          },
          "title": {
           "x": 0.05
          },
          "xaxis": {
           "automargin": true,
           "gridcolor": "white",
           "linecolor": "white",
           "ticks": "",
           "title": {
            "standoff": 15
           },
           "zerolinecolor": "white",
           "zerolinewidth": 2
          },
          "yaxis": {
           "automargin": true,
           "gridcolor": "white",
           "linecolor": "white",
           "ticks": "",
           "title": {
            "standoff": 15
           },
           "zerolinecolor": "white",
           "zerolinewidth": 2
          }
         }
        },
        "title": {
         "text": "k-NN F1-Macro (Fitness) | Метрика: *cosine*"
        },
        "width": 800
       }
      }
     },
     "metadata": {},
     "output_type": "display_data"
    },
    {
     "data": {
      "application/vnd.plotly.v1+json": {
       "config": {
        "plotlyServerURL": "https://plot.ly"
       },
       "data": [
        {
         "hovertemplate": "train_data_portion=%{x}<br>k=%{y}<br>f1_macro=%{marker.color}<extra></extra>",
         "legendgroup": "",
         "marker": {
          "color": {
           "bdata": "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",
           "dtype": "f8"
          },
          "coloraxis": "coloraxis",
          "size": 3,
          "symbol": "circle"
         },
         "mode": "markers",
         "name": "",
         "scene": "scene",
         "showlegend": false,
         "type": "scatter3d",
         "x": {
          "bdata": "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",
          "dtype": "f8"
         },
         "y": {
          "bdata": "AQMFBwkLDQ8RExUXGRsdHwEDBQcJCw0PERMVFxkbHR8BAwUHCQsNDxETFRcZGx0fAQMFBwkLDQ8RExUXGRsdHwEDBQcJCw0PERMVFxkbHR8BAwUHCQsNDxETFRcZGx0fAQMFBwkLDQ8RExUXGRsdHwEDBQcJCw0PERMVFxkbHR8BAwUHCQsNDxETFRcZGx0fAQMFBwkLDQ8RExUXGRsdHwEDBQcJCw0PERMVFxkbHR8BAwUHCQsNDxETFRcZGx0fAQMFBwkLDQ8RExUXGRsdHwEDBQcJCw0PERMVFxkbHR8BAwUHCQsNDxETFRcZGx0fAQMFBwkLDQ8RExUXGRsdHwEDBQcJCw0PERMVFxkbHR8BAwUHCQsNDxETFRcZGx0fAQMFBwkLDQ8RExUXGRsdHw==",
          "dtype": "i1"
         },
         "z": {
          "bdata": "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",
          "dtype": "f8"
         }
        }
       ],
       "layout": {
        "coloraxis": {
         "colorbar": {
          "title": {
           "text": "f1_macro"
          }
         },
         "colorscale": [
          [
           0,
           "#440154"
          ],
          [
           0.1111111111111111,
           "#482878"
          ],
          [
           0.2222222222222222,
           "#3e4989"
          ],
          [
           0.3333333333333333,
           "#31688e"
          ],
          [
           0.4444444444444444,
           "#26828e"
          ],
          [
           0.5555555555555556,
           "#1f9e89"
          ],
          [
           0.6666666666666666,
           "#35b779"
          ],
          [
           0.7777777777777778,
           "#6ece58"
          ],
          [
           0.8888888888888888,
           "#b5de2b"
          ],
          [
           1,
           "#fde725"
          ]
         ]
        },
        "height": 600,
        "legend": {
         "tracegroupgap": 0
        },
        "scene": {
         "domain": {
          "x": [
           0,
           1
          ],
          "y": [
           0,
           1
          ]
         },
         "xaxis": {
          "title": {
           "text": "Частка тренувальних даних (Train Size)"
          }
         },
         "yaxis": {
          "title": {
           "text": "k (кількість сусідів)"
          }
         },
         "zaxis": {
          "title": {
           "text": "F1-Macro Score"
          }
         }
        },
        "template": {
         "data": {
          "bar": [
           {
            "error_x": {
             "color": "#2a3f5f"
            },
            "error_y": {
             "color": "#2a3f5f"
            },
            "marker": {
             "line": {
              "color": "#E5ECF6",
              "width": 0.5
             },
             "pattern": {
              "fillmode": "overlay",
              "size": 10,
              "solidity": 0.2
             }
            },
            "type": "bar"
           }
          ],
          "barpolar": [
           {
            "marker": {
             "line": {
              "color": "#E5ECF6",
              "width": 0.5
             },
             "pattern": {
              "fillmode": "overlay",
              "size": 10,
              "solidity": 0.2
             }
            },
            "type": "barpolar"
           }
          ],
          "carpet": [
           {
            "aaxis": {
             "endlinecolor": "#2a3f5f",
             "gridcolor": "white",
             "linecolor": "white",
             "minorgridcolor": "white",
             "startlinecolor": "#2a3f5f"
            },
            "baxis": {
             "endlinecolor": "#2a3f5f",
             "gridcolor": "white",
             "linecolor": "white",
             "minorgridcolor": "white",
             "startlinecolor": "#2a3f5f"
            },
            "type": "carpet"
           }
          ],
          "choropleth": [
           {
            "colorbar": {
             "outlinewidth": 0,
             "ticks": ""
            },
            "type": "choropleth"
           }
          ],
          "contour": [
           {
            "colorbar": {
             "outlinewidth": 0,
             "ticks": ""
            },
            "colorscale": [
             [
              0,
              "#0d0887"
             ],
             [
              0.1111111111111111,
              "#46039f"
             ],
             [
              0.2222222222222222,
              "#7201a8"
             ],
             [
              0.3333333333333333,
              "#9c179e"
             ],
             [
              0.4444444444444444,
              "#bd3786"
             ],
             [
              0.5555555555555556,
              "#d8576b"
             ],
             [
              0.6666666666666666,
              "#ed7953"
             ],
             [
              0.7777777777777778,
              "#fb9f3a"
             ],
             [
              0.8888888888888888,
              "#fdca26"
             ],
             [
              1,
              "#f0f921"
             ]
            ],
            "type": "contour"
           }
          ],
          "contourcarpet": [
           {
            "colorbar": {
             "outlinewidth": 0,
             "ticks": ""
            },
            "type": "contourcarpet"
           }
          ],
          "heatmap": [
           {
            "colorbar": {
             "outlinewidth": 0,
             "ticks": ""
            },
            "colorscale": [
             [
              0,
              "#0d0887"
             ],
             [
              0.1111111111111111,
              "#46039f"
             ],
             [
              0.2222222222222222,
              "#7201a8"
             ],
             [
              0.3333333333333333,
              "#9c179e"
             ],
             [
              0.4444444444444444,
              "#bd3786"
             ],
             [
              0.5555555555555556,
              "#d8576b"
             ],
             [
              0.6666666666666666,
              "#ed7953"
             ],
             [
              0.7777777777777778,
              "#fb9f3a"
             ],
             [
              0.8888888888888888,
              "#fdca26"
             ],
             [
              1,
              "#f0f921"
             ]
            ],
            "type": "heatmap"
           }
          ],
          "histogram": [
           {
            "marker": {
             "pattern": {
              "fillmode": "overlay",
              "size": 10,
              "solidity": 0.2
             }
            },
            "type": "histogram"
           }
          ],
          "histogram2d": [
           {
            "colorbar": {
             "outlinewidth": 0,
             "ticks": ""
            },
            "colorscale": [
             [
              0,
              "#0d0887"
             ],
             [
              0.1111111111111111,
              "#46039f"
             ],
             [
              0.2222222222222222,
              "#7201a8"
             ],
             [
              0.3333333333333333,
              "#9c179e"
             ],
             [
              0.4444444444444444,
              "#bd3786"
             ],
             [
              0.5555555555555556,
              "#d8576b"
             ],
             [
              0.6666666666666666,
              "#ed7953"
             ],
             [
              0.7777777777777778,
              "#fb9f3a"
             ],
             [
              0.8888888888888888,
              "#fdca26"
             ],
             [
              1,
              "#f0f921"
             ]
            ],
            "type": "histogram2d"
           }
          ],
          "histogram2dcontour": [
           {
            "colorbar": {
             "outlinewidth": 0,
             "ticks": ""
            },
            "colorscale": [
             [
              0,
              "#0d0887"
             ],
             [
              0.1111111111111111,
              "#46039f"
             ],
             [
              0.2222222222222222,
              "#7201a8"
             ],
             [
              0.3333333333333333,
              "#9c179e"
             ],
             [
              0.4444444444444444,
              "#bd3786"
             ],
             [
              0.5555555555555556,
              "#d8576b"
             ],
             [
              0.6666666666666666,
              "#ed7953"
             ],
             [
              0.7777777777777778,
              "#fb9f3a"
             ],
             [
              0.8888888888888888,
              "#fdca26"
             ],
             [
              1,
              "#f0f921"
             ]
            ],
            "type": "histogram2dcontour"
           }
          ],
          "mesh3d": [
           {
            "colorbar": {
             "outlinewidth": 0,
             "ticks": ""
            },
            "type": "mesh3d"
           }
          ],
          "parcoords": [
           {
            "line": {
             "colorbar": {
              "outlinewidth": 0,
              "ticks": ""
             }
            },
            "type": "parcoords"
           }
          ],
          "pie": [
           {
            "automargin": true,
            "type": "pie"
           }
          ],
          "scatter": [
           {
            "fillpattern": {
             "fillmode": "overlay",
             "size": 10,
             "solidity": 0.2
            },
            "type": "scatter"
           }
          ],
          "scatter3d": [
           {
            "line": {
             "colorbar": {
              "outlinewidth": 0,
              "ticks": ""
             }
            },
            "marker": {
             "colorbar": {
              "outlinewidth": 0,
              "ticks": ""
             }
            },
            "type": "scatter3d"
           }
          ],
          "scattercarpet": [
           {
            "marker": {
             "colorbar": {
              "outlinewidth": 0,
              "ticks": ""
             }
            },
            "type": "scattercarpet"
           }
          ],
          "scattergeo": [
           {
            "marker": {
             "colorbar": {
              "outlinewidth": 0,
              "ticks": ""
             }
            },
            "type": "scattergeo"
           }
          ],
          "scattergl": [
           {
            "marker": {
             "colorbar": {
              "outlinewidth": 0,
              "ticks": ""
             }
            },
            "type": "scattergl"
           }
          ],
          "scattermap": [
           {
            "marker": {
             "colorbar": {
              "outlinewidth": 0,
              "ticks": ""
             }
            },
            "type": "scattermap"
           }
          ],
          "scattermapbox": [
           {
            "marker": {
             "colorbar": {
              "outlinewidth": 0,
              "ticks": ""
             }
            },
            "type": "scattermapbox"
           }
          ],
          "scatterpolar": [
           {
            "marker": {
             "colorbar": {
              "outlinewidth": 0,
              "ticks": ""
             }
            },
            "type": "scatterpolar"
           }
          ],
          "scatterpolargl": [
           {
            "marker": {
             "colorbar": {
              "outlinewidth": 0,
              "ticks": ""
             }
            },
            "type": "scatterpolargl"
           }
          ],
          "scatterternary": [
           {
            "marker": {
             "colorbar": {
              "outlinewidth": 0,
              "ticks": ""
             }
            },
            "type": "scatterternary"
           }
          ],
          "surface": [
           {
            "colorbar": {
             "outlinewidth": 0,
             "ticks": ""
            },
            "colorscale": [
             [
              0,
              "#0d0887"
             ],
             [
              0.1111111111111111,
              "#46039f"
             ],
             [
              0.2222222222222222,
              "#7201a8"
             ],
             [
              0.3333333333333333,
              "#9c179e"
             ],
             [
              0.4444444444444444,
              "#bd3786"
             ],
             [
              0.5555555555555556,
              "#d8576b"
             ],
             [
              0.6666666666666666,
              "#ed7953"
             ],
             [
              0.7777777777777778,
              "#fb9f3a"
             ],
             [
              0.8888888888888888,
              "#fdca26"
             ],
             [
              1,
              "#f0f921"
             ]
            ],
            "type": "surface"
           }
          ],
          "table": [
           {
            "cells": {
             "fill": {
              "color": "#EBF0F8"
             },
             "line": {
              "color": "white"
             }
            },
            "header": {
             "fill": {
              "color": "#C8D4E3"
             },
             "line": {
              "color": "white"
             }
            },
            "type": "table"
           }
          ]
         },
         "layout": {
          "annotationdefaults": {
           "arrowcolor": "#2a3f5f",
           "arrowhead": 0,
           "arrowwidth": 1
          },
          "autotypenumbers": "strict",
          "coloraxis": {
           "colorbar": {
            "outlinewidth": 0,
            "ticks": ""
           }
          },
          "colorscale": {
           "diverging": [
            [
             0,
             "#8e0152"
            ],
            [
             0.1,
             "#c51b7d"
            ],
            [
             0.2,
             "#de77ae"
            ],
            [
             0.3,
             "#f1b6da"
            ],
            [
             0.4,
             "#fde0ef"
            ],
            [
             0.5,
             "#f7f7f7"
            ],
            [
             0.6,
             "#e6f5d0"
            ],
            [
             0.7,
             "#b8e186"
            ],
            [
             0.8,
             "#7fbc41"
            ],
            [
             0.9,
             "#4d9221"
            ],
            [
             1,
             "#276419"
            ]
           ],
           "sequential": [
            [
             0,
             "#0d0887"
            ],
            [
             0.1111111111111111,
             "#46039f"
            ],
            [
             0.2222222222222222,
             "#7201a8"
            ],
            [
             0.3333333333333333,
             "#9c179e"
            ],
            [
             0.4444444444444444,
             "#bd3786"
            ],
            [
             0.5555555555555556,
             "#d8576b"
            ],
            [
             0.6666666666666666,
             "#ed7953"
            ],
            [
             0.7777777777777778,
             "#fb9f3a"
            ],
            [
             0.8888888888888888,
             "#fdca26"
            ],
            [
             1,
             "#f0f921"
            ]
           ],
           "sequentialminus": [
            [
             0,
             "#0d0887"
            ],
            [
             0.1111111111111111,
             "#46039f"
            ],
            [
             0.2222222222222222,
             "#7201a8"
            ],
            [
             0.3333333333333333,
             "#9c179e"
            ],
            [
             0.4444444444444444,
             "#bd3786"
            ],
            [
             0.5555555555555556,
             "#d8576b"
            ],
            [
             0.6666666666666666,
             "#ed7953"
            ],
            [
             0.7777777777777778,
             "#fb9f3a"
            ],
            [
             0.8888888888888888,
             "#fdca26"
            ],
            [
             1,
             "#f0f921"
            ]
           ]
          },
          "colorway": [
           "#636efa",
           "#EF553B",
           "#00cc96",
           "#ab63fa",
           "#FFA15A",
           "#19d3f3",
           "#FF6692",
           "#B6E880",
           "#FF97FF",
           "#FECB52"
          ],
          "font": {
           "color": "#2a3f5f"
          },
          "geo": {
           "bgcolor": "white",
           "lakecolor": "white",
           "landcolor": "#E5ECF6",
           "showlakes": true,
           "showland": true,
           "subunitcolor": "white"
          },
          "hoverlabel": {
           "align": "left"
          },
          "hovermode": "closest",
          "mapbox": {
           "style": "light"
          },
          "paper_bgcolor": "white",
          "plot_bgcolor": "#E5ECF6",
          "polar": {
           "angularaxis": {
            "gridcolor": "white",
            "linecolor": "white",
            "ticks": ""
           },
           "bgcolor": "#E5ECF6",
           "radialaxis": {
            "gridcolor": "white",
            "linecolor": "white",
            "ticks": ""
           }
          },
          "scene": {
           "xaxis": {
            "backgroundcolor": "#E5ECF6",
            "gridcolor": "white",
            "gridwidth": 2,
            "linecolor": "white",
            "showbackground": true,
            "ticks": "",
            "zerolinecolor": "white"
           },
           "yaxis": {
            "backgroundcolor": "#E5ECF6",
            "gridcolor": "white",
            "gridwidth": 2,
            "linecolor": "white",
            "showbackground": true,
            "ticks": "",
            "zerolinecolor": "white"
           },
           "zaxis": {
            "backgroundcolor": "#E5ECF6",
            "gridcolor": "white",
            "gridwidth": 2,
            "linecolor": "white",
            "showbackground": true,
            "ticks": "",
            "zerolinecolor": "white"
           }
          },
          "shapedefaults": {
           "line": {
            "color": "#2a3f5f"
           }
          },
          "ternary": {
           "aaxis": {
            "gridcolor": "white",
            "linecolor": "white",
            "ticks": ""
           },
           "baxis": {
            "gridcolor": "white",
            "linecolor": "white",
            "ticks": ""
           },
           "bgcolor": "#E5ECF6",
           "caxis": {
            "gridcolor": "white",
            "linecolor": "white",
            "ticks": ""
           }
          },
          "title": {
           "x": 0.05
          },
          "xaxis": {
           "automargin": true,
           "gridcolor": "white",
           "linecolor": "white",
           "ticks": "",
           "title": {
            "standoff": 15
           },
           "zerolinecolor": "white",
           "zerolinewidth": 2
          },
          "yaxis": {
           "automargin": true,
           "gridcolor": "white",
           "linecolor": "white",
           "ticks": "",
           "title": {
            "standoff": 15
           },
           "zerolinecolor": "white",
           "zerolinewidth": 2
          }
         }
        },
        "title": {
         "text": "k-NN F1-Macro (Fitness) | Метрика: *euclidean*"
        },
        "width": 800
       }
      }
     },
     "metadata": {},
     "output_type": "display_data"
    }
   ],
   "source": [
    "print(\"\\nВізуалізація 3D-графіків\")\n",
    "\n",
    "vis_df = pd.DataFrame(experiment_results, columns=['metric', 'train_data_portion', 'k', 'f1_macro'])\n",
    "\n",
    "for metric in metrics_to_test:\n",
    "    metric_data = vis_df[vis_df['metric'] == metric]\n",
    "    \n",
    "    fig = px.scatter_3d(\n",
    "        metric_data, \n",
    "        x='train_data_portion',\n",
    "        y='k', \n",
    "        z='f1_macro',\n",
    "        title=f\"k-NN F1-Macro (Fitness) | Метрика: *{metric}*\",\n",
    "        color=\"f1_macro\",\n",
    "        color_continuous_scale='Viridis',\n",
    "        width=800, height=600\n",
    "    )\n",
    "    \n",
    "    fig.update_layout(\n",
    "        scene = dict(\n",
    "            xaxis_title='Частка тренувальних даних (Train Size)', \n",
    "            yaxis_title='k (кількість сусідів)',\n",
    "            zaxis_title='F1-Macro Score'\n",
    "        )\n",
    "    )\n",
    "    fig.update_traces(marker=dict(size=3))\n",
    "    fig.show()"
   ]
  },
  {
   "cell_type": "code",
   "execution_count": 11,
   "id": "60bf4b4bc3c84dbb",
   "metadata": {
    "ExecuteTime": {
     "end_time": "2025-10-24T06:34:47.624693Z",
     "start_time": "2025-10-24T06:34:47.517890Z"
    }
   },
   "outputs": [
    {
     "name": "stdout",
     "output_type": "stream",
     "text": [
      "\n",
      " Навчання та оцінка фінальної моделі\n",
      "Найкращі параметри (з валідації на X_train)\n",
      "Метрика (Metric):     minkowski\n",
      "k (сусіди):         1\n",
      "Частка даних:       0.95 (де це було досягнуто)\n",
      "Найкращий F1-Macro: 0.9881\n"
     ]
    }
   ],
   "source": [
    "# Фінальна модель та оцінка (звіти)\n",
    "\n",
    "print(\"\\n Навчання та оцінка фінальної моделі\")\n",
    "\n",
    "best_params = sorted(experiment_results, key=lambda x: x[3], reverse=True)[0]\n",
    "best_metric, best_train_portion, best_k, best_score = best_params\n",
    "\n",
    "print(f\"Найкращі параметри (з валідації на X_train)\")\n",
    "print(f\"Метрика (Metric):     {best_metric}\")\n",
    "print(f\"k (сусіди):         {best_k}\")\n",
    "print(f\"Частка даних:       {best_train_portion:.2f} (де це було досягнуто)\")\n",
    "print(f\"Найкращий F1-Macro: {best_score:.4f}\")"
   ]
  },
  {
   "cell_type": "code",
   "execution_count": 12,
   "id": "de633f3a1bfe2c0d",
   "metadata": {
    "ExecuteTime": {
     "end_time": "2025-10-24T06:34:52.709311Z",
     "start_time": "2025-10-24T06:34:52.625696Z"
    }
   },
   "outputs": [
    {
     "data": {
      "text/html": [
       "<style>#sk-container-id-1 {\n",
       "  /* Definition of color scheme common for light and dark mode */\n",
       "  --sklearn-color-text: #000;\n",
       "  --sklearn-color-text-muted: #666;\n",
       "  --sklearn-color-line: gray;\n",
       "  /* Definition of color scheme for unfitted estimators */\n",
       "  --sklearn-color-unfitted-level-0: #fff5e6;\n",
       "  --sklearn-color-unfitted-level-1: #f6e4d2;\n",
       "  --sklearn-color-unfitted-level-2: #ffe0b3;\n",
       "  --sklearn-color-unfitted-level-3: chocolate;\n",
       "  /* Definition of color scheme for fitted estimators */\n",
       "  --sklearn-color-fitted-level-0: #f0f8ff;\n",
       "  --sklearn-color-fitted-level-1: #d4ebff;\n",
       "  --sklearn-color-fitted-level-2: #b3dbfd;\n",
       "  --sklearn-color-fitted-level-3: cornflowerblue;\n",
       "\n",
       "  /* Specific color for light theme */\n",
       "  --sklearn-color-text-on-default-background: var(--sg-text-color, var(--theme-code-foreground, var(--jp-content-font-color1, black)));\n",
       "  --sklearn-color-background: var(--sg-background-color, var(--theme-background, var(--jp-layout-color0, white)));\n",
       "  --sklearn-color-border-box: var(--sg-text-color, var(--theme-code-foreground, var(--jp-content-font-color1, black)));\n",
       "  --sklearn-color-icon: #696969;\n",
       "\n",
       "  @media (prefers-color-scheme: dark) {\n",
       "    /* Redefinition of color scheme for dark theme */\n",
       "    --sklearn-color-text-on-default-background: var(--sg-text-color, var(--theme-code-foreground, var(--jp-content-font-color1, white)));\n",
       "    --sklearn-color-background: var(--sg-background-color, var(--theme-background, var(--jp-layout-color0, #111)));\n",
       "    --sklearn-color-border-box: var(--sg-text-color, var(--theme-code-foreground, var(--jp-content-font-color1, white)));\n",
       "    --sklearn-color-icon: #878787;\n",
       "  }\n",
       "}\n",
       "\n",
       "#sk-container-id-1 {\n",
       "  color: var(--sklearn-color-text);\n",
       "}\n",
       "\n",
       "#sk-container-id-1 pre {\n",
       "  padding: 0;\n",
       "}\n",
       "\n",
       "#sk-container-id-1 input.sk-hidden--visually {\n",
       "  border: 0;\n",
       "  clip: rect(1px 1px 1px 1px);\n",
       "  clip: rect(1px, 1px, 1px, 1px);\n",
       "  height: 1px;\n",
       "  margin: -1px;\n",
       "  overflow: hidden;\n",
       "  padding: 0;\n",
       "  position: absolute;\n",
       "  width: 1px;\n",
       "}\n",
       "\n",
       "#sk-container-id-1 div.sk-dashed-wrapped {\n",
       "  border: 1px dashed var(--sklearn-color-line);\n",
       "  margin: 0 0.4em 0.5em 0.4em;\n",
       "  box-sizing: border-box;\n",
       "  padding-bottom: 0.4em;\n",
       "  background-color: var(--sklearn-color-background);\n",
       "}\n",
       "\n",
       "#sk-container-id-1 div.sk-container {\n",
       "  /* jupyter's `normalize.less` sets `[hidden] { display: none; }`\n",
       "     but bootstrap.min.css set `[hidden] { display: none !important; }`\n",
       "     so we also need the `!important` here to be able to override the\n",
       "     default hidden behavior on the sphinx rendered scikit-learn.org.\n",
       "     See: https://github.com/scikit-learn/scikit-learn/issues/21755 */\n",
       "  display: inline-block !important;\n",
       "  position: relative;\n",
       "}\n",
       "\n",
       "#sk-container-id-1 div.sk-text-repr-fallback {\n",
       "  display: none;\n",
       "}\n",
       "\n",
       "div.sk-parallel-item,\n",
       "div.sk-serial,\n",
       "div.sk-item {\n",
       "  /* draw centered vertical line to link estimators */\n",
       "  background-image: linear-gradient(var(--sklearn-color-text-on-default-background), var(--sklearn-color-text-on-default-background));\n",
       "  background-size: 2px 100%;\n",
       "  background-repeat: no-repeat;\n",
       "  background-position: center center;\n",
       "}\n",
       "\n",
       "/* Parallel-specific style estimator block */\n",
       "\n",
       "#sk-container-id-1 div.sk-parallel-item::after {\n",
       "  content: \"\";\n",
       "  width: 100%;\n",
       "  border-bottom: 2px solid var(--sklearn-color-text-on-default-background);\n",
       "  flex-grow: 1;\n",
       "}\n",
       "\n",
       "#sk-container-id-1 div.sk-parallel {\n",
       "  display: flex;\n",
       "  align-items: stretch;\n",
       "  justify-content: center;\n",
       "  background-color: var(--sklearn-color-background);\n",
       "  position: relative;\n",
       "}\n",
       "\n",
       "#sk-container-id-1 div.sk-parallel-item {\n",
       "  display: flex;\n",
       "  flex-direction: column;\n",
       "}\n",
       "\n",
       "#sk-container-id-1 div.sk-parallel-item:first-child::after {\n",
       "  align-self: flex-end;\n",
       "  width: 50%;\n",
       "}\n",
       "\n",
       "#sk-container-id-1 div.sk-parallel-item:last-child::after {\n",
       "  align-self: flex-start;\n",
       "  width: 50%;\n",
       "}\n",
       "\n",
       "#sk-container-id-1 div.sk-parallel-item:only-child::after {\n",
       "  width: 0;\n",
       "}\n",
       "\n",
       "/* Serial-specific style estimator block */\n",
       "\n",
       "#sk-container-id-1 div.sk-serial {\n",
       "  display: flex;\n",
       "  flex-direction: column;\n",
       "  align-items: center;\n",
       "  background-color: var(--sklearn-color-background);\n",
       "  padding-right: 1em;\n",
       "  padding-left: 1em;\n",
       "}\n",
       "\n",
       "\n",
       "/* Toggleable style: style used for estimator/Pipeline/ColumnTransformer box that is\n",
       "clickable and can be expanded/collapsed.\n",
       "- Pipeline and ColumnTransformer use this feature and define the default style\n",
       "- Estimators will overwrite some part of the style using the `sk-estimator` class\n",
       "*/\n",
       "\n",
       "/* Pipeline and ColumnTransformer style (default) */\n",
       "\n",
       "#sk-container-id-1 div.sk-toggleable {\n",
       "  /* Default theme specific background. It is overwritten whether we have a\n",
       "  specific estimator or a Pipeline/ColumnTransformer */\n",
       "  background-color: var(--sklearn-color-background);\n",
       "}\n",
       "\n",
       "/* Toggleable label */\n",
       "#sk-container-id-1 label.sk-toggleable__label {\n",
       "  cursor: pointer;\n",
       "  display: flex;\n",
       "  width: 100%;\n",
       "  margin-bottom: 0;\n",
       "  padding: 0.5em;\n",
       "  box-sizing: border-box;\n",
       "  text-align: center;\n",
       "  align-items: start;\n",
       "  justify-content: space-between;\n",
       "  gap: 0.5em;\n",
       "}\n",
       "\n",
       "#sk-container-id-1 label.sk-toggleable__label .caption {\n",
       "  font-size: 0.6rem;\n",
       "  font-weight: lighter;\n",
       "  color: var(--sklearn-color-text-muted);\n",
       "}\n",
       "\n",
       "#sk-container-id-1 label.sk-toggleable__label-arrow:before {\n",
       "  /* Arrow on the left of the label */\n",
       "  content: \"▸\";\n",
       "  float: left;\n",
       "  margin-right: 0.25em;\n",
       "  color: var(--sklearn-color-icon);\n",
       "}\n",
       "\n",
       "#sk-container-id-1 label.sk-toggleable__label-arrow:hover:before {\n",
       "  color: var(--sklearn-color-text);\n",
       "}\n",
       "\n",
       "/* Toggleable content - dropdown */\n",
       "\n",
       "#sk-container-id-1 div.sk-toggleable__content {\n",
       "  display: none;\n",
       "  text-align: left;\n",
       "  /* unfitted */\n",
       "  background-color: var(--sklearn-color-unfitted-level-0);\n",
       "}\n",
       "\n",
       "#sk-container-id-1 div.sk-toggleable__content.fitted {\n",
       "  /* fitted */\n",
       "  background-color: var(--sklearn-color-fitted-level-0);\n",
       "}\n",
       "\n",
       "#sk-container-id-1 div.sk-toggleable__content pre {\n",
       "  margin: 0.2em;\n",
       "  border-radius: 0.25em;\n",
       "  color: var(--sklearn-color-text);\n",
       "  /* unfitted */\n",
       "  background-color: var(--sklearn-color-unfitted-level-0);\n",
       "}\n",
       "\n",
       "#sk-container-id-1 div.sk-toggleable__content.fitted pre {\n",
       "  /* unfitted */\n",
       "  background-color: var(--sklearn-color-fitted-level-0);\n",
       "}\n",
       "\n",
       "#sk-container-id-1 input.sk-toggleable__control:checked~div.sk-toggleable__content {\n",
       "  /* Expand drop-down */\n",
       "  display: block;\n",
       "  width: 100%;\n",
       "  overflow: visible;\n",
       "}\n",
       "\n",
       "#sk-container-id-1 input.sk-toggleable__control:checked~label.sk-toggleable__label-arrow:before {\n",
       "  content: \"▾\";\n",
       "}\n",
       "\n",
       "/* Pipeline/ColumnTransformer-specific style */\n",
       "\n",
       "#sk-container-id-1 div.sk-label input.sk-toggleable__control:checked~label.sk-toggleable__label {\n",
       "  color: var(--sklearn-color-text);\n",
       "  background-color: var(--sklearn-color-unfitted-level-2);\n",
       "}\n",
       "\n",
       "#sk-container-id-1 div.sk-label.fitted input.sk-toggleable__control:checked~label.sk-toggleable__label {\n",
       "  background-color: var(--sklearn-color-fitted-level-2);\n",
       "}\n",
       "\n",
       "/* Estimator-specific style */\n",
       "\n",
       "/* Colorize estimator box */\n",
       "#sk-container-id-1 div.sk-estimator input.sk-toggleable__control:checked~label.sk-toggleable__label {\n",
       "  /* unfitted */\n",
       "  background-color: var(--sklearn-color-unfitted-level-2);\n",
       "}\n",
       "\n",
       "#sk-container-id-1 div.sk-estimator.fitted input.sk-toggleable__control:checked~label.sk-toggleable__label {\n",
       "  /* fitted */\n",
       "  background-color: var(--sklearn-color-fitted-level-2);\n",
       "}\n",
       "\n",
       "#sk-container-id-1 div.sk-label label.sk-toggleable__label,\n",
       "#sk-container-id-1 div.sk-label label {\n",
       "  /* The background is the default theme color */\n",
       "  color: var(--sklearn-color-text-on-default-background);\n",
       "}\n",
       "\n",
       "/* On hover, darken the color of the background */\n",
       "#sk-container-id-1 div.sk-label:hover label.sk-toggleable__label {\n",
       "  color: var(--sklearn-color-text);\n",
       "  background-color: var(--sklearn-color-unfitted-level-2);\n",
       "}\n",
       "\n",
       "/* Label box, darken color on hover, fitted */\n",
       "#sk-container-id-1 div.sk-label.fitted:hover label.sk-toggleable__label.fitted {\n",
       "  color: var(--sklearn-color-text);\n",
       "  background-color: var(--sklearn-color-fitted-level-2);\n",
       "}\n",
       "\n",
       "/* Estimator label */\n",
       "\n",
       "#sk-container-id-1 div.sk-label label {\n",
       "  font-family: monospace;\n",
       "  font-weight: bold;\n",
       "  display: inline-block;\n",
       "  line-height: 1.2em;\n",
       "}\n",
       "\n",
       "#sk-container-id-1 div.sk-label-container {\n",
       "  text-align: center;\n",
       "}\n",
       "\n",
       "/* Estimator-specific */\n",
       "#sk-container-id-1 div.sk-estimator {\n",
       "  font-family: monospace;\n",
       "  border: 1px dotted var(--sklearn-color-border-box);\n",
       "  border-radius: 0.25em;\n",
       "  box-sizing: border-box;\n",
       "  margin-bottom: 0.5em;\n",
       "  /* unfitted */\n",
       "  background-color: var(--sklearn-color-unfitted-level-0);\n",
       "}\n",
       "\n",
       "#sk-container-id-1 div.sk-estimator.fitted {\n",
       "  /* fitted */\n",
       "  background-color: var(--sklearn-color-fitted-level-0);\n",
       "}\n",
       "\n",
       "/* on hover */\n",
       "#sk-container-id-1 div.sk-estimator:hover {\n",
       "  /* unfitted */\n",
       "  background-color: var(--sklearn-color-unfitted-level-2);\n",
       "}\n",
       "\n",
       "#sk-container-id-1 div.sk-estimator.fitted:hover {\n",
       "  /* fitted */\n",
       "  background-color: var(--sklearn-color-fitted-level-2);\n",
       "}\n",
       "\n",
       "/* Specification for estimator info (e.g. \"i\" and \"?\") */\n",
       "\n",
       "/* Common style for \"i\" and \"?\" */\n",
       "\n",
       ".sk-estimator-doc-link,\n",
       "a:link.sk-estimator-doc-link,\n",
       "a:visited.sk-estimator-doc-link {\n",
       "  float: right;\n",
       "  font-size: smaller;\n",
       "  line-height: 1em;\n",
       "  font-family: monospace;\n",
       "  background-color: var(--sklearn-color-background);\n",
       "  border-radius: 1em;\n",
       "  height: 1em;\n",
       "  width: 1em;\n",
       "  text-decoration: none !important;\n",
       "  margin-left: 0.5em;\n",
       "  text-align: center;\n",
       "  /* unfitted */\n",
       "  border: var(--sklearn-color-unfitted-level-1) 1pt solid;\n",
       "  color: var(--sklearn-color-unfitted-level-1);\n",
       "}\n",
       "\n",
       ".sk-estimator-doc-link.fitted,\n",
       "a:link.sk-estimator-doc-link.fitted,\n",
       "a:visited.sk-estimator-doc-link.fitted {\n",
       "  /* fitted */\n",
       "  border: var(--sklearn-color-fitted-level-1) 1pt solid;\n",
       "  color: var(--sklearn-color-fitted-level-1);\n",
       "}\n",
       "\n",
       "/* On hover */\n",
       "div.sk-estimator:hover .sk-estimator-doc-link:hover,\n",
       ".sk-estimator-doc-link:hover,\n",
       "div.sk-label-container:hover .sk-estimator-doc-link:hover,\n",
       ".sk-estimator-doc-link:hover {\n",
       "  /* unfitted */\n",
       "  background-color: var(--sklearn-color-unfitted-level-3);\n",
       "  color: var(--sklearn-color-background);\n",
       "  text-decoration: none;\n",
       "}\n",
       "\n",
       "div.sk-estimator.fitted:hover .sk-estimator-doc-link.fitted:hover,\n",
       ".sk-estimator-doc-link.fitted:hover,\n",
       "div.sk-label-container:hover .sk-estimator-doc-link.fitted:hover,\n",
       ".sk-estimator-doc-link.fitted:hover {\n",
       "  /* fitted */\n",
       "  background-color: var(--sklearn-color-fitted-level-3);\n",
       "  color: var(--sklearn-color-background);\n",
       "  text-decoration: none;\n",
       "}\n",
       "\n",
       "/* Span, style for the box shown on hovering the info icon */\n",
       ".sk-estimator-doc-link span {\n",
       "  display: none;\n",
       "  z-index: 9999;\n",
       "  position: relative;\n",
       "  font-weight: normal;\n",
       "  right: .2ex;\n",
       "  padding: .5ex;\n",
       "  margin: .5ex;\n",
       "  width: min-content;\n",
       "  min-width: 20ex;\n",
       "  max-width: 50ex;\n",
       "  color: var(--sklearn-color-text);\n",
       "  box-shadow: 2pt 2pt 4pt #999;\n",
       "  /* unfitted */\n",
       "  background: var(--sklearn-color-unfitted-level-0);\n",
       "  border: .5pt solid var(--sklearn-color-unfitted-level-3);\n",
       "}\n",
       "\n",
       ".sk-estimator-doc-link.fitted span {\n",
       "  /* fitted */\n",
       "  background: var(--sklearn-color-fitted-level-0);\n",
       "  border: var(--sklearn-color-fitted-level-3);\n",
       "}\n",
       "\n",
       ".sk-estimator-doc-link:hover span {\n",
       "  display: block;\n",
       "}\n",
       "\n",
       "/* \"?\"-specific style due to the `<a>` HTML tag */\n",
       "\n",
       "#sk-container-id-1 a.estimator_doc_link {\n",
       "  float: right;\n",
       "  font-size: 1rem;\n",
       "  line-height: 1em;\n",
       "  font-family: monospace;\n",
       "  background-color: var(--sklearn-color-background);\n",
       "  border-radius: 1rem;\n",
       "  height: 1rem;\n",
       "  width: 1rem;\n",
       "  text-decoration: none;\n",
       "  /* unfitted */\n",
       "  color: var(--sklearn-color-unfitted-level-1);\n",
       "  border: var(--sklearn-color-unfitted-level-1) 1pt solid;\n",
       "}\n",
       "\n",
       "#sk-container-id-1 a.estimator_doc_link.fitted {\n",
       "  /* fitted */\n",
       "  border: var(--sklearn-color-fitted-level-1) 1pt solid;\n",
       "  color: var(--sklearn-color-fitted-level-1);\n",
       "}\n",
       "\n",
       "/* On hover */\n",
       "#sk-container-id-1 a.estimator_doc_link:hover {\n",
       "  /* unfitted */\n",
       "  background-color: var(--sklearn-color-unfitted-level-3);\n",
       "  color: var(--sklearn-color-background);\n",
       "  text-decoration: none;\n",
       "}\n",
       "\n",
       "#sk-container-id-1 a.estimator_doc_link.fitted:hover {\n",
       "  /* fitted */\n",
       "  background-color: var(--sklearn-color-fitted-level-3);\n",
       "}\n",
       "\n",
       ".estimator-table summary {\n",
       "    padding: .5rem;\n",
       "    font-family: monospace;\n",
       "    cursor: pointer;\n",
       "}\n",
       "\n",
       ".estimator-table details[open] {\n",
       "    padding-left: 0.1rem;\n",
       "    padding-right: 0.1rem;\n",
       "    padding-bottom: 0.3rem;\n",
       "}\n",
       "\n",
       ".estimator-table .parameters-table {\n",
       "    margin-left: auto !important;\n",
       "    margin-right: auto !important;\n",
       "}\n",
       "\n",
       ".estimator-table .parameters-table tr:nth-child(odd) {\n",
       "    background-color: #fff;\n",
       "}\n",
       "\n",
       ".estimator-table .parameters-table tr:nth-child(even) {\n",
       "    background-color: #f6f6f6;\n",
       "}\n",
       "\n",
       ".estimator-table .parameters-table tr:hover {\n",
       "    background-color: #e0e0e0;\n",
       "}\n",
       "\n",
       ".estimator-table table td {\n",
       "    border: 1px solid rgba(106, 105, 104, 0.232);\n",
       "}\n",
       "\n",
       ".user-set td {\n",
       "    color:rgb(255, 94, 0);\n",
       "    text-align: left;\n",
       "}\n",
       "\n",
       ".user-set td.value pre {\n",
       "    color:rgb(255, 94, 0) !important;\n",
       "    background-color: transparent !important;\n",
       "}\n",
       "\n",
       ".default td {\n",
       "    color: black;\n",
       "    text-align: left;\n",
       "}\n",
       "\n",
       ".user-set td i,\n",
       ".default td i {\n",
       "    color: black;\n",
       "}\n",
       "\n",
       ".copy-paste-icon {\n",
       "    background-image: url(data:image/svg+xml;base64,PHN2ZyB4bWxucz0iaHR0cDovL3d3dy53My5vcmcvMjAwMC9zdmciIHZpZXdCb3g9IjAgMCA0NDggNTEyIj48IS0tIUZvbnQgQXdlc29tZSBGcmVlIDYuNy4yIGJ5IEBmb250YXdlc29tZSAtIGh0dHBzOi8vZm9udGF3ZXNvbWUuY29tIExpY2Vuc2UgLSBodHRwczovL2ZvbnRhd2Vzb21lLmNvbS9saWNlbnNlL2ZyZWUgQ29weXJpZ2h0IDIwMjUgRm9udGljb25zLCBJbmMuLS0+PHBhdGggZD0iTTIwOCAwTDMzMi4xIDBjMTIuNyAwIDI0LjkgNS4xIDMzLjkgMTQuMWw2Ny45IDY3LjljOSA5IDE0LjEgMjEuMiAxNC4xIDMzLjlMNDQ4IDMzNmMwIDI2LjUtMjEuNSA0OC00OCA0OGwtMTkyIDBjLTI2LjUgMC00OC0yMS41LTQ4LTQ4bDAtMjg4YzAtMjYuNSAyMS41LTQ4IDQ4LTQ4ek00OCAxMjhsODAgMCAwIDY0LTY0IDAgMCAyNTYgMTkyIDAgMC0zMiA2NCAwIDAgNDhjMCAyNi41LTIxLjUgNDgtNDggNDhMNDggNTEyYy0yNi41IDAtNDgtMjEuNS00OC00OEwwIDE3NmMwLTI2LjUgMjEuNS00OCA0OC00OHoiLz48L3N2Zz4=);\n",
       "    background-repeat: no-repeat;\n",
       "    background-size: 14px 14px;\n",
       "    background-position: 0;\n",
       "    display: inline-block;\n",
       "    width: 14px;\n",
       "    height: 14px;\n",
       "    cursor: pointer;\n",
       "}\n",
       "</style><body><div id=\"sk-container-id-1\" class=\"sk-top-container\"><div class=\"sk-text-repr-fallback\"><pre>KNeighborsClassifier(n_neighbors=1)</pre><b>In a Jupyter environment, please rerun this cell to show the HTML representation or trust the notebook. <br />On GitHub, the HTML representation is unable to render, please try loading this page with nbviewer.org.</b></div><div class=\"sk-container\" hidden><div class=\"sk-item\"><div class=\"sk-estimator fitted sk-toggleable\"><input class=\"sk-toggleable__control sk-hidden--visually\" id=\"sk-estimator-id-1\" type=\"checkbox\" checked><label for=\"sk-estimator-id-1\" class=\"sk-toggleable__label fitted sk-toggleable__label-arrow\"><div><div>KNeighborsClassifier</div></div><div><a class=\"sk-estimator-doc-link fitted\" rel=\"noreferrer\" target=\"_blank\" href=\"https://scikit-learn.org/1.7/modules/generated/sklearn.neighbors.KNeighborsClassifier.html\">?<span>Documentation for KNeighborsClassifier</span></a><span class=\"sk-estimator-doc-link fitted\">i<span>Fitted</span></span></div></label><div class=\"sk-toggleable__content fitted\" data-param-prefix=\"\">\n",
       "        <div class=\"estimator-table\">\n",
       "            <details>\n",
       "                <summary>Parameters</summary>\n",
       "                <table class=\"parameters-table\">\n",
       "                  <tbody>\n",
       "                    \n",
       "        <tr class=\"user-set\">\n",
       "            <td><i class=\"copy-paste-icon\"\n",
       "                 onclick=\"copyToClipboard('n_neighbors',\n",
       "                          this.parentElement.nextElementSibling)\"\n",
       "            ></i></td>\n",
       "            <td class=\"param\">n_neighbors&nbsp;</td>\n",
       "            <td class=\"value\">1</td>\n",
       "        </tr>\n",
       "    \n",
       "\n",
       "        <tr class=\"default\">\n",
       "            <td><i class=\"copy-paste-icon\"\n",
       "                 onclick=\"copyToClipboard('weights',\n",
       "                          this.parentElement.nextElementSibling)\"\n",
       "            ></i></td>\n",
       "            <td class=\"param\">weights&nbsp;</td>\n",
       "            <td class=\"value\">&#x27;uniform&#x27;</td>\n",
       "        </tr>\n",
       "    \n",
       "\n",
       "        <tr class=\"default\">\n",
       "            <td><i class=\"copy-paste-icon\"\n",
       "                 onclick=\"copyToClipboard('algorithm',\n",
       "                          this.parentElement.nextElementSibling)\"\n",
       "            ></i></td>\n",
       "            <td class=\"param\">algorithm&nbsp;</td>\n",
       "            <td class=\"value\">&#x27;auto&#x27;</td>\n",
       "        </tr>\n",
       "    \n",
       "\n",
       "        <tr class=\"default\">\n",
       "            <td><i class=\"copy-paste-icon\"\n",
       "                 onclick=\"copyToClipboard('leaf_size',\n",
       "                          this.parentElement.nextElementSibling)\"\n",
       "            ></i></td>\n",
       "            <td class=\"param\">leaf_size&nbsp;</td>\n",
       "            <td class=\"value\">30</td>\n",
       "        </tr>\n",
       "    \n",
       "\n",
       "        <tr class=\"default\">\n",
       "            <td><i class=\"copy-paste-icon\"\n",
       "                 onclick=\"copyToClipboard('p',\n",
       "                          this.parentElement.nextElementSibling)\"\n",
       "            ></i></td>\n",
       "            <td class=\"param\">p&nbsp;</td>\n",
       "            <td class=\"value\">2</td>\n",
       "        </tr>\n",
       "    \n",
       "\n",
       "        <tr class=\"default\">\n",
       "            <td><i class=\"copy-paste-icon\"\n",
       "                 onclick=\"copyToClipboard('metric',\n",
       "                          this.parentElement.nextElementSibling)\"\n",
       "            ></i></td>\n",
       "            <td class=\"param\">metric&nbsp;</td>\n",
       "            <td class=\"value\">&#x27;minkowski&#x27;</td>\n",
       "        </tr>\n",
       "    \n",
       "\n",
       "        <tr class=\"default\">\n",
       "            <td><i class=\"copy-paste-icon\"\n",
       "                 onclick=\"copyToClipboard('metric_params',\n",
       "                          this.parentElement.nextElementSibling)\"\n",
       "            ></i></td>\n",
       "            <td class=\"param\">metric_params&nbsp;</td>\n",
       "            <td class=\"value\">None</td>\n",
       "        </tr>\n",
       "    \n",
       "\n",
       "        <tr class=\"default\">\n",
       "            <td><i class=\"copy-paste-icon\"\n",
       "                 onclick=\"copyToClipboard('n_jobs',\n",
       "                          this.parentElement.nextElementSibling)\"\n",
       "            ></i></td>\n",
       "            <td class=\"param\">n_jobs&nbsp;</td>\n",
       "            <td class=\"value\">None</td>\n",
       "        </tr>\n",
       "    \n",
       "                  </tbody>\n",
       "                </table>\n",
       "            </details>\n",
       "        </div>\n",
       "    </div></div></div></div></div><script>function copyToClipboard(text, element) {\n",
       "    // Get the parameter prefix from the closest toggleable content\n",
       "    const toggleableContent = element.closest('.sk-toggleable__content');\n",
       "    const paramPrefix = toggleableContent ? toggleableContent.dataset.paramPrefix : '';\n",
       "    const fullParamName = paramPrefix ? `${paramPrefix}${text}` : text;\n",
       "\n",
       "    const originalStyle = element.style;\n",
       "    const computedStyle = window.getComputedStyle(element);\n",
       "    const originalWidth = computedStyle.width;\n",
       "    const originalHTML = element.innerHTML.replace('Copied!', '');\n",
       "\n",
       "    navigator.clipboard.writeText(fullParamName)\n",
       "        .then(() => {\n",
       "            element.style.width = originalWidth;\n",
       "            element.style.color = 'green';\n",
       "            element.innerHTML = \"Copied!\";\n",
       "\n",
       "            setTimeout(() => {\n",
       "                element.innerHTML = originalHTML;\n",
       "                element.style = originalStyle;\n",
       "            }, 2000);\n",
       "        })\n",
       "        .catch(err => {\n",
       "            console.error('Failed to copy:', err);\n",
       "            element.style.color = 'red';\n",
       "            element.innerHTML = \"Failed!\";\n",
       "            setTimeout(() => {\n",
       "                element.innerHTML = originalHTML;\n",
       "                element.style = originalStyle;\n",
       "            }, 2000);\n",
       "        });\n",
       "    return false;\n",
       "}\n",
       "\n",
       "document.querySelectorAll('.fa-regular.fa-copy').forEach(function(element) {\n",
       "    const toggleableContent = element.closest('.sk-toggleable__content');\n",
       "    const paramPrefix = toggleableContent ? toggleableContent.dataset.paramPrefix : '';\n",
       "    const paramName = element.parentElement.nextElementSibling.textContent.trim();\n",
       "    const fullParamName = paramPrefix ? `${paramPrefix}${paramName}` : paramName;\n",
       "\n",
       "    element.setAttribute('title', fullParamName);\n",
       "});\n",
       "</script></body>"
      ],
      "text/plain": [
       "KNeighborsClassifier(n_neighbors=1)"
      ]
     },
     "execution_count": 12,
     "metadata": {},
     "output_type": "execute_result"
    }
   ],
   "source": [
    "# Навчаємо фінальну модель на всіх X_train з найкращими знайденими k і метрикою\n",
    "final_knn_model = KNeighborsClassifier(n_neighbors=best_k, metric=best_metric)\n",
    "final_knn_model.fit(X_train, y_train)"
   ]
  },
  {
   "cell_type": "code",
   "execution_count": 13,
   "id": "361703cc0eaf35d6",
   "metadata": {},
   "outputs": [
    {
     "name": "stdout",
     "output_type": "stream",
     "text": [
      "\n",
      "ЗВІТ ПО TRAIN\n",
      "              precision    recall  f1-score   support\n",
      "\n",
      " Not Fit (0)       1.00      1.00      1.00       841\n",
      "     Fit (1)       1.00      1.00      1.00       559\n",
      "\n",
      "    accuracy                           1.00      1400\n",
      "   macro avg       1.00      1.00      1.00      1400\n",
      "weighted avg       1.00      1.00      1.00      1400\n",
      "\n"
     ]
    }
   ],
   "source": [
    "# Оцінка на TRAIN\n",
    "y_train_pred = final_knn_model.predict(X_train)\n",
    "print(\"\\nЗВІТ ПО TRAIN\")\n",
    "print(classification_report(y_train, y_train_pred, target_names=target_names))"
   ]
  },
  {
   "cell_type": "code",
   "execution_count": 14,
   "id": "bf956e78b2ea9cab",
   "metadata": {
    "ExecuteTime": {
     "end_time": "2025-10-24T06:46:01.794834Z",
     "start_time": "2025-10-24T06:46:01.776991Z"
    }
   },
   "outputs": [
    {
     "name": "stdout",
     "output_type": "stream",
     "text": [
      "\n",
      "ЗВІТ ПО TEST\n",
      "              precision    recall  f1-score   support\n",
      "\n",
      " Not Fit (0)       0.75      0.74      0.75       360\n",
      "     Fit (1)       0.62      0.64      0.63       240\n",
      "\n",
      "    accuracy                           0.70       600\n",
      "   macro avg       0.69      0.69      0.69       600\n",
      "weighted avg       0.70      0.70      0.70       600\n",
      "\n"
     ]
    }
   ],
   "source": [
    "# Оцінка на TEST (найважливіший результат)\n",
    "y_test_pred = final_knn_model.predict(X_test)\n",
    "print(\"\\nЗВІТ ПО TEST\")\n",
    "print(classification_report(y_test, y_test_pred, target_names=target_names))"
   ]
  },
  {
   "cell_type": "code",
   "execution_count": 15,
   "id": "b21e40065937dd72",
   "metadata": {
    "ExecuteTime": {
     "end_time": "2025-10-24T06:47:16.936819Z",
     "start_time": "2025-10-24T06:47:16.922405Z"
    }
   },
   "outputs": [
    {
     "name": "stdout",
     "output_type": "stream",
     "text": [
      "\n",
      "Візуалізація матриць помилок\n"
     ]
    },
    {
     "data": {
      "image/png": "[encoded data removed]",
      "text/plain": [
       "<Figure size 800x600 with 2 Axes>"
      ]
     },
     "metadata": {},
     "output_type": "display_data"
    }
   ],
   "source": [
    "print(\"\\nВізуалізація матриць помилок\")\n",
    "\n",
    "# Матриця помилок для TRAIN\n",
    "fig, ax = plt.subplots(figsize=(8, 6))\n",
    "ax.grid(False)\n",
    "ConfusionMatrixDisplay.from_estimator(\n",
    "    final_knn_model,\n",
    "    X_train,\n",
    "    y_train,\n",
    "    display_labels=target_names,\n",
    "    cmap=plt.cm.Blues,\n",
    "    ax=ax,\n",
    "    normalize='true'\n",
    ")\n",
    "plt.title(\"Матриця помилок (TRAIN set) - Нормалізована\")\n",
    "plt.show()"
   ]
  },
  {
   "cell_type": "code",
   "execution_count": 16,
   "id": "54926a25222b238f",
   "metadata": {
    "ExecuteTime": {
     "end_time": "2025-10-24T06:47:32.885668Z",
     "start_time": "2025-10-24T06:47:32.872345Z"
    }
   },
   "outputs": [
    {
     "data": {
      "image/png": "[encoded data removed]",
      "text/plain": [
       "<Figure size 800x600 with 2 Axes>"
      ]
     },
     "metadata": {},
     "output_type": "display_data"
    }
   ],
   "source": [
    "# Матриця помилок для TEST\n",
    "fig, ax = plt.subplots(figsize=(8, 6))\n",
    "ax.grid(False)\n",
    "ConfusionMatrixDisplay.from_estimator(\n",
    "    final_knn_model,\n",
    "    X_test,\n",
    "    y_test,\n",
    "    display_labels=target_names,\n",
    "    cmap=plt.cm.Greens,\n",
    "    ax=ax,\n",
    "    normalize='true' \n",
    ")\n",
    "plt.title(\"Матриця помилок (TEST set) - Нормалізована\")\n",
    "plt.show()"
   ]
  },
  {
   "cell_type": "markdown",
   "id": "3ab1c4a3473d1925",
   "metadata": {},
   "source": [
    "# Conclusions"
   ]
  },
  {
   "cell_type": "markdown",
   "id": "1d879994",
   "metadata": {},
   "source": [
    "В ході лабораторної роботи був досліджений алгоритм k-NN на \"Fitness Classification Dataset\".\n",
    "\n",
    "Підготовка даних: Була проведена повна підготовка даних, що включала заповнення пропусків (NaN) медіаною, кодування категоріальних ознак (gender, smokes) та критично важливе масштабування всіх ознак за допомогою StandardScaler.\n",
    "\n",
    "Метрика: Через дисбаланс класів (60/40) замість accuracy було обрано f1-score (macro) як основну метрику.\n",
    "\n",
    "Експерименти: Було проведено серію експериментів, тестуючи 4 метрики відстані (manhattan, euclidean та ін.), 16 значень k та 19 варіантів обсягу тренувальних даних.\n",
    "\n",
    "Результати та аналіз:\n",
    "\n",
    "Під час валідації (на X_train) найкраща модель показала F1-Macro 0.9881 з метрикою minkowski та k=1.\n",
    "\n",
    "Однак, на \"невидимих\" тестових даних (X_test), ця ж модель показала значно нижчий, \"чесний\" результат: f1-score (macro) = 0.69.\n",
    "\n",
    "Ця різниця (0.9881 vs 0.69) є яскравим прикладом перенавчання (overfitting): модель ідеально \"запам'ятала\" тренувальні дані, але мала труднощі з узагальненням.\n",
    "\n",
    "Загальний висновок: Алгоритм k-NN виявився працездатним, але схильним до перенавчання на цьому наборі даних. Його ефективність критично залежала від масштабування. Фінальна узагальнююча здатність моделі склала f1-macro = 0.69."
   ]
  }
 ],
 "metadata": {
  "kernelspec": {
   "display_name": "Python 3",
   "language": "python",
   "name": "python3"
  },
  "language_info": {
   "codemirror_mode": {
    "name": "ipython",
    "version": 3
   },
   "file_extension": ".py",
   "mimetype": "text/x-python",
   "name": "python",
   "nbconvert_exporter": "python",
   "pygments_lexer": "ipython3",
   "version": "3.13.7"
  }
 },
 "nbformat": 4,
 "nbformat_minor": 5
}
